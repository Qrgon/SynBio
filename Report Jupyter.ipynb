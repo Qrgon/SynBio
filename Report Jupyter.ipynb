{
 "nbformat": 4,
 "nbformat_minor": 2,
 "metadata": {
  "language_info": {
   "name": "python",
   "codemirror_mode": {
    "name": "ipython",
    "version": 3
   },
   "version": "3.7.4"
  },
  "orig_nbformat": 2,
  "file_extension": ".py",
  "mimetype": "text/x-python",
  "name": "python",
  "npconvert_exporter": "python",
  "pygments_lexer": "ipython3",
  "version": 3
 },
 "cells": [
  {
   "cell_type": "code",
   "metadata": {},
   "outputs": [],
   "source": [
    "#importing libraries\n",
    "import pandas as pd\n",
    "print(\"Pandas imported successfully, version: \"+pd.__version__)\n",
    "import scipy as sm\n",
    "from scipy.stats import *\n",
    "print(\"SciPy imported successfully, version: \"+sm.__version__)\n",
    "import seaborn as sns\n",
    "print(\"Seaborn imported successfully, version: \"+sns.__version__)\n",
    "sns.set(style=\"whitegrid\")\n",
    "import plotly\n",
    "print(\"Plotly imported successfully, version: \"+plotly.__version__)\n",
    "from sklearn.decomposition import PCA #For performing principle component analysis"
   ]
  },
  {
   "cell_type": "code",
   "metadata": {},
   "outputs": [],
   "source": [
    "#importing dataset\n",
    "print()\n",
    "print(\"For this report I will be using 'Students Performance in Exams' dataset from Kaggle available from: https://www.kaggle.com/spscientist/students-performance-in-exams\")\n",
    "print()\n",
    "print(\"This dataset is most probably fictional and consits of Marks secured by the students in high school Students from the United States:\")\n",
    "df = pd.read_csv('StudentsPerformance.csv')"
   ]
  },
  {
   "cell_type": "code",
   "metadata": {},
   "outputs": [],
   "source": [
    "#looking at the data\n",
    "print(df.head(5))\n",
    "print()\n",
    "count_row = df.shape[0]\n",
    "count_col = df.shape[1]\n",
    "print(\"This dataset contains \", count_row, \" entries and \", count_col, \" properties for each entry: \", list(df.columns))"
   ]
  },
  {
   "cell_type": "code",
   "metadata": {},
   "outputs": [],
   "source": [
    "#checking for missing data\n",
    "B = df.isnull().sum()\n",
    "print(B)\n",
    "print()\n",
    "print(\" There is no missing data on this dataset\")"
   ]
  },
  {
   "cell_type": "code",
   "metadata": {},
   "outputs": [],
   "source": [
    "#gender preview\n",
    "\n",
    "import plotly.graph_objects as go\n",
    "fig = go.Figure()\n",
    "fig.add_trace(go.Histogram(\n",
    "    x=df[\"gender\"],\n",
    "    name='Students', # name used in legend and hover labels\n",
    "    xbins=dict( # bins used for histogram\n",
    "        size=0.1\n",
    "        \n",
    "    ),\n",
    "    marker_color='#EB89B6',\n",
    "    opacity=0.75\n",
    "))\n",
    "\n",
    "\n",
    "fig.update_layout(\n",
    "    title_text='Student gender distribution histogram', # title of plot\n",
    "    xaxis_title_text='Gender', # xaxis label\n",
    "    yaxis_title_text='Count', # yaxis label\n",
    "    showlegend=True\n",
    "   \n",
    "    \n",
    ")\n",
    "\n",
    "fig.show()\n",
    "\n",
    "males = df[\"gender\"] == \"male\"\n",
    "count_males = df[males].shape[0]\n",
    "females = df[\"gender\"] == \"female\"\n",
    "count_females = df[females].shape[0]\n",
    "\n",
    "print(\"Of \", count_row, \" students there are \", count_males, \" male students and \", count_females, \" female students.\")"
   ]
  },
  {
   "cell_type": "code",
   "metadata": {},
   "outputs": [],
   "source": [
    "#Race preview\n",
    "df= df.sort_values(by ='race/ethnicity' )\n",
    "fig = go.Figure()\n",
    "fig.add_trace(go.Histogram(\n",
    "    x=df[\"race/ethnicity\"],\n",
    "    name='Students', # name used in legend and hover labels\n",
    "    xbins=dict( # bins used for histogram\n",
    "        size=0.1\n",
    "        \n",
    "    ),\n",
    "    marker_color='#EB89B6',\n",
    "    opacity=0.75\n",
    "))\n",
    "\n",
    "\n",
    "fig.update_layout(\n",
    "    title_text='Student race distribution histogram', # title of plot\n",
    "    xaxis_title_text='Ethnicity', # xaxis label\n",
    "    yaxis_title_text='Count', # yaxis label\n",
    "    showlegend=True\n",
    "   \n",
    "    \n",
    ")\n",
    "\n",
    "fig.show()\n",
    "A= df['race/ethnicity'].nunique()\n",
    "B=df['race/ethnicity'].unique()\n",
    "print(\"There are \", A, \" different ethnical groups: \", B)"
   ]
  },
  {
   "cell_type": "code",
   "execution_count": 37,
   "metadata": {},
   "outputs": [
    {
     "name": "stdout",
     "output_type": "stream",
     "text": "\nThere are  6  different levels of education:  [\"associate's degree\" \"bachelor's degree\" 'high school' \"master's degree\"\n 'some college' 'some high school']\nThe correct descending order is: masters, bachelors, associate, some college, high school and some high school. For simplicity I will change values of levels of education from 1 to 6, 1 standing for some high school and 6 for masters\n     gender race/ethnicity parental level of education         lunch  \\\n690  female        group C          associate's degree      standard   \n962  female        group E          associate's degree      standard   \n3      male        group A          associate's degree  free/reduced   \n159    male        group D          associate's degree  free/reduced   \n397  female        group C          associate's degree      standard   \n\n    test preparation course  math score  reading score  writing score  \n690                    none          49             53             53  \n962                    none         100            100            100  \n3                      none          47             57             44  \n159                    none          66             62             64  \n397                    none          85             89             95  \n"
    },
    {
     "data": {
      "application/vnd.plotly.v1+json": {
       "config": {
        "plotlyServerURL": "https://plot.ly"
       },
       "data": [
        {
         "marker": {
          "color": "#EB89B6"
         },
         "name": "Students",
         "opacity": 0.75,
         "type": "histogram",
         "x": [
          "associate's degree",
          "associate's degree",
          "associate's degree",
          "associate's degree",
          "associate's degree",
          "associate's degree",
          "associate's degree",
          "associate's degree",
          "associate's degree",
          "associate's degree",
          "associate's degree",
          "associate's degree",
          "associate's degree",
          "associate's degree",
          "associate's degree",
          "associate's degree",
          "associate's degree",
          "associate's degree",
          "associate's degree",
          "associate's degree",
          "associate's degree",
          "associate's degree",
          "associate's degree",
          "associate's degree",
          "associate's degree",
          "associate's degree",
          "associate's degree",
          "associate's degree",
          "associate's degree",
          "associate's degree",
          "associate's degree",
          "associate's degree",
          "associate's degree",
          "associate's degree",
          "associate's degree",
          "associate's degree",
          "associate's degree",
          "associate's degree",
          "associate's degree",
          "associate's degree",
          "associate's degree",
          "associate's degree",
          "associate's degree",
          "associate's degree",
          "associate's degree",
          "associate's degree",
          "associate's degree",
          "associate's degree",
          "associate's degree",
          "associate's degree",
          "associate's degree",
          "associate's degree",
          "associate's degree",
          "associate's degree",
          "associate's degree",
          "associate's degree",
          "associate's degree",
          "associate's degree",
          "associate's degree",
          "associate's degree",
          "associate's degree",
          "associate's degree",
          "associate's degree",
          "associate's degree",
          "associate's degree",
          "associate's degree",
          "associate's degree",
          "associate's degree",
          "associate's degree",
          "associate's degree",
          "associate's degree",
          "associate's degree",
          "associate's degree",
          "associate's degree",
          "associate's degree",
          "associate's degree",
          "associate's degree",
          "associate's degree",
          "associate's degree",
          "associate's degree",
          "associate's degree",
          "associate's degree",
          "associate's degree",
          "associate's degree",
          "associate's degree",
          "associate's degree",
          "associate's degree",
          "associate's degree",
          "associate's degree",
          "associate's degree",
          "associate's degree",
          "associate's degree",
          "associate's degree",
          "associate's degree",
          "associate's degree",
          "associate's degree",
          "associate's degree",
          "associate's degree",
          "associate's degree",
          "associate's degree",
          "associate's degree",
          "associate's degree",
          "associate's degree",
          "associate's degree",
          "associate's degree",
          "associate's degree",
          "associate's degree",
          "associate's degree",
          "associate's degree",
          "associate's degree",
          "associate's degree",
          "associate's degree",
          "associate's degree",
          "associate's degree",
          "associate's degree",
          "associate's degree",
          "associate's degree",
          "associate's degree",
          "associate's degree",
          "associate's degree",
          "associate's degree",
          "associate's degree",
          "associate's degree",
          "associate's degree",
          "associate's degree",
          "associate's degree",
          "associate's degree",
          "associate's degree",
          "associate's degree",
          "associate's degree",
          "associate's degree",
          "associate's degree",
          "associate's degree",
          "associate's degree",
          "associate's degree",
          "associate's degree",
          "associate's degree",
          "associate's degree",
          "associate's degree",
          "associate's degree",
          "associate's degree",
          "associate's degree",
          "associate's degree",
          "associate's degree",
          "associate's degree",
          "associate's degree",
          "associate's degree",
          "associate's degree",
          "associate's degree",
          "associate's degree",
          "associate's degree",
          "associate's degree",
          "associate's degree",
          "associate's degree",
          "associate's degree",
          "associate's degree",
          "associate's degree",
          "associate's degree",
          "associate's degree",
          "associate's degree",
          "associate's degree",
          "associate's degree",
          "associate's degree",
          "associate's degree",
          "associate's degree",
          "associate's degree",
          "associate's degree",
          "associate's degree",
          "associate's degree",
          "associate's degree",
          "associate's degree",
          "associate's degree",
          "associate's degree",
          "associate's degree",
          "associate's degree",
          "associate's degree",
          "associate's degree",
          "associate's degree",
          "associate's degree",
          "associate's degree",
          "associate's degree",
          "associate's degree",
          "associate's degree",
          "associate's degree",
          "associate's degree",
          "associate's degree",
          "associate's degree",
          "associate's degree",
          "associate's degree",
          "associate's degree",
          "associate's degree",
          "associate's degree",
          "associate's degree",
          "associate's degree",
          "associate's degree",
          "associate's degree",
          "associate's degree",
          "associate's degree",
          "associate's degree",
          "associate's degree",
          "associate's degree",
          "associate's degree",
          "associate's degree",
          "associate's degree",
          "associate's degree",
          "associate's degree",
          "associate's degree",
          "associate's degree",
          "associate's degree",
          "associate's degree",
          "associate's degree",
          "associate's degree",
          "associate's degree",
          "associate's degree",
          "associate's degree",
          "associate's degree",
          "associate's degree",
          "associate's degree",
          "associate's degree",
          "associate's degree",
          "associate's degree",
          "associate's degree",
          "bachelor's degree",
          "bachelor's degree",
          "bachelor's degree",
          "bachelor's degree",
          "bachelor's degree",
          "bachelor's degree",
          "bachelor's degree",
          "bachelor's degree",
          "bachelor's degree",
          "bachelor's degree",
          "bachelor's degree",
          "bachelor's degree",
          "bachelor's degree",
          "bachelor's degree",
          "bachelor's degree",
          "bachelor's degree",
          "bachelor's degree",
          "bachelor's degree",
          "bachelor's degree",
          "bachelor's degree",
          "bachelor's degree",
          "bachelor's degree",
          "bachelor's degree",
          "bachelor's degree",
          "bachelor's degree",
          "bachelor's degree",
          "bachelor's degree",
          "bachelor's degree",
          "bachelor's degree",
          "bachelor's degree",
          "bachelor's degree",
          "bachelor's degree",
          "bachelor's degree",
          "bachelor's degree",
          "bachelor's degree",
          "bachelor's degree",
          "bachelor's degree",
          "bachelor's degree",
          "bachelor's degree",
          "bachelor's degree",
          "bachelor's degree",
          "bachelor's degree",
          "bachelor's degree",
          "bachelor's degree",
          "bachelor's degree",
          "bachelor's degree",
          "bachelor's degree",
          "bachelor's degree",
          "bachelor's degree",
          "bachelor's degree",
          "bachelor's degree",
          "bachelor's degree",
          "bachelor's degree",
          "bachelor's degree",
          "bachelor's degree",
          "bachelor's degree",
          "bachelor's degree",
          "bachelor's degree",
          "bachelor's degree",
          "bachelor's degree",
          "bachelor's degree",
          "bachelor's degree",
          "bachelor's degree",
          "bachelor's degree",
          "bachelor's degree",
          "bachelor's degree",
          "bachelor's degree",
          "bachelor's degree",
          "bachelor's degree",
          "bachelor's degree",
          "bachelor's degree",
          "bachelor's degree",
          "bachelor's degree",
          "bachelor's degree",
          "bachelor's degree",
          "bachelor's degree",
          "bachelor's degree",
          "bachelor's degree",
          "bachelor's degree",
          "bachelor's degree",
          "bachelor's degree",
          "bachelor's degree",
          "bachelor's degree",
          "bachelor's degree",
          "bachelor's degree",
          "bachelor's degree",
          "bachelor's degree",
          "bachelor's degree",
          "bachelor's degree",
          "bachelor's degree",
          "bachelor's degree",
          "bachelor's degree",
          "bachelor's degree",
          "bachelor's degree",
          "bachelor's degree",
          "bachelor's degree",
          "bachelor's degree",
          "bachelor's degree",
          "bachelor's degree",
          "bachelor's degree",
          "bachelor's degree",
          "bachelor's degree",
          "bachelor's degree",
          "bachelor's degree",
          "bachelor's degree",
          "bachelor's degree",
          "bachelor's degree",
          "bachelor's degree",
          "bachelor's degree",
          "bachelor's degree",
          "bachelor's degree",
          "bachelor's degree",
          "bachelor's degree",
          "bachelor's degree",
          "bachelor's degree",
          "bachelor's degree",
          "bachelor's degree",
          "bachelor's degree",
          "high school",
          "high school",
          "high school",
          "high school",
          "high school",
          "high school",
          "high school",
          "high school",
          "high school",
          "high school",
          "high school",
          "high school",
          "high school",
          "high school",
          "high school",
          "high school",
          "high school",
          "high school",
          "high school",
          "high school",
          "high school",
          "high school",
          "high school",
          "high school",
          "high school",
          "high school",
          "high school",
          "high school",
          "high school",
          "high school",
          "high school",
          "high school",
          "high school",
          "high school",
          "high school",
          "high school",
          "high school",
          "high school",
          "high school",
          "high school",
          "high school",
          "high school",
          "high school",
          "high school",
          "high school",
          "high school",
          "high school",
          "high school",
          "high school",
          "high school",
          "high school",
          "high school",
          "high school",
          "high school",
          "high school",
          "high school",
          "high school",
          "high school",
          "high school",
          "high school",
          "high school",
          "high school",
          "high school",
          "high school",
          "high school",
          "high school",
          "high school",
          "high school",
          "high school",
          "high school",
          "high school",
          "high school",
          "high school",
          "high school",
          "high school",
          "high school",
          "high school",
          "high school",
          "high school",
          "high school",
          "high school",
          "high school",
          "high school",
          "high school",
          "high school",
          "high school",
          "high school",
          "high school",
          "high school",
          "high school",
          "high school",
          "high school",
          "high school",
          "high school",
          "high school",
          "high school",
          "high school",
          "high school",
          "high school",
          "high school",
          "high school",
          "high school",
          "high school",
          "high school",
          "high school",
          "high school",
          "high school",
          "high school",
          "high school",
          "high school",
          "high school",
          "high school",
          "high school",
          "high school",
          "high school",
          "high school",
          "high school",
          "high school",
          "high school",
          "high school",
          "high school",
          "high school",
          "high school",
          "high school",
          "high school",
          "high school",
          "high school",
          "high school",
          "high school",
          "high school",
          "high school",
          "high school",
          "high school",
          "high school",
          "high school",
          "high school",
          "high school",
          "high school",
          "high school",
          "high school",
          "high school",
          "high school",
          "high school",
          "high school",
          "high school",
          "high school",
          "high school",
          "high school",
          "high school",
          "high school",
          "high school",
          "high school",
          "high school",
          "high school",
          "high school",
          "high school",
          "high school",
          "high school",
          "high school",
          "high school",
          "high school",
          "high school",
          "high school",
          "high school",
          "high school",
          "high school",
          "high school",
          "high school",
          "high school",
          "high school",
          "high school",
          "high school",
          "high school",
          "high school",
          "high school",
          "high school",
          "high school",
          "high school",
          "high school",
          "high school",
          "high school",
          "high school",
          "high school",
          "high school",
          "high school",
          "high school",
          "high school",
          "high school",
          "high school",
          "high school",
          "high school",
          "high school",
          "high school",
          "high school",
          "high school",
          "high school",
          "master's degree",
          "master's degree",
          "master's degree",
          "master's degree",
          "master's degree",
          "master's degree",
          "master's degree",
          "master's degree",
          "master's degree",
          "master's degree",
          "master's degree",
          "master's degree",
          "master's degree",
          "master's degree",
          "master's degree",
          "master's degree",
          "master's degree",
          "master's degree",
          "master's degree",
          "master's degree",
          "master's degree",
          "master's degree",
          "master's degree",
          "master's degree",
          "master's degree",
          "master's degree",
          "master's degree",
          "master's degree",
          "master's degree",
          "master's degree",
          "master's degree",
          "master's degree",
          "master's degree",
          "master's degree",
          "master's degree",
          "master's degree",
          "master's degree",
          "master's degree",
          "master's degree",
          "master's degree",
          "master's degree",
          "master's degree",
          "master's degree",
          "master's degree",
          "master's degree",
          "master's degree",
          "master's degree",
          "master's degree",
          "master's degree",
          "master's degree",
          "master's degree",
          "master's degree",
          "master's degree",
          "master's degree",
          "master's degree",
          "master's degree",
          "master's degree",
          "master's degree",
          "master's degree",
          "some college",
          "some college",
          "some college",
          "some college",
          "some college",
          "some college",
          "some college",
          "some college",
          "some college",
          "some college",
          "some college",
          "some college",
          "some college",
          "some college",
          "some college",
          "some college",
          "some college",
          "some college",
          "some college",
          "some college",
          "some college",
          "some college",
          "some college",
          "some college",
          "some college",
          "some college",
          "some college",
          "some college",
          "some college",
          "some college",
          "some college",
          "some college",
          "some college",
          "some college",
          "some college",
          "some college",
          "some college",
          "some college",
          "some college",
          "some college",
          "some college",
          "some college",
          "some college",
          "some college",
          "some college",
          "some college",
          "some college",
          "some college",
          "some college",
          "some college",
          "some college",
          "some college",
          "some college",
          "some college",
          "some college",
          "some college",
          "some college",
          "some college",
          "some college",
          "some college",
          "some college",
          "some college",
          "some college",
          "some college",
          "some college",
          "some college",
          "some college",
          "some college",
          "some college",
          "some college",
          "some college",
          "some college",
          "some college",
          "some college",
          "some college",
          "some college",
          "some college",
          "some college",
          "some college",
          "some college",
          "some college",
          "some college",
          "some college",
          "some college",
          "some college",
          "some college",
          "some college",
          "some college",
          "some college",
          "some college",
          "some college",
          "some college",
          "some college",
          "some college",
          "some college",
          "some college",
          "some college",
          "some college",
          "some college",
          "some college",
          "some college",
          "some college",
          "some college",
          "some college",
          "some college",
          "some college",
          "some college",
          "some college",
          "some college",
          "some college",
          "some college",
          "some college",
          "some college",
          "some college",
          "some college",
          "some college",
          "some college",
          "some college",
          "some college",
          "some college",
          "some college",
          "some college",
          "some college",
          "some college",
          "some college",
          "some college",
          "some college",
          "some college",
          "some college",
          "some college",
          "some college",
          "some college",
          "some college",
          "some college",
          "some college",
          "some college",
          "some college",
          "some college",
          "some college",
          "some college",
          "some college",
          "some college",
          "some college",
          "some college",
          "some college",
          "some college",
          "some college",
          "some college",
          "some college",
          "some college",
          "some college",
          "some college",
          "some college",
          "some college",
          "some college",
          "some college",
          "some college",
          "some college",
          "some college",
          "some college",
          "some college",
          "some college",
          "some college",
          "some college",
          "some college",
          "some college",
          "some college",
          "some college",
          "some college",
          "some college",
          "some college",
          "some college",
          "some college",
          "some college",
          "some college",
          "some college",
          "some college",
          "some college",
          "some college",
          "some college",
          "some college",
          "some college",
          "some college",
          "some college",
          "some college",
          "some college",
          "some college",
          "some college",
          "some college",
          "some college",
          "some college",
          "some college",
          "some college",
          "some college",
          "some college",
          "some college",
          "some college",
          "some college",
          "some college",
          "some college",
          "some college",
          "some college",
          "some college",
          "some college",
          "some college",
          "some college",
          "some college",
          "some college",
          "some college",
          "some college",
          "some college",
          "some college",
          "some college",
          "some college",
          "some college",
          "some college",
          "some college",
          "some college",
          "some college",
          "some college",
          "some college",
          "some college",
          "some college",
          "some college",
          "some college",
          "some college",
          "some high school",
          "some high school",
          "some high school",
          "some high school",
          "some high school",
          "some high school",
          "some high school",
          "some high school",
          "some high school",
          "some high school",
          "some high school",
          "some high school",
          "some high school",
          "some high school",
          "some high school",
          "some high school",
          "some high school",
          "some high school",
          "some high school",
          "some high school",
          "some high school",
          "some high school",
          "some high school",
          "some high school",
          "some high school",
          "some high school",
          "some high school",
          "some high school",
          "some high school",
          "some high school",
          "some high school",
          "some high school",
          "some high school",
          "some high school",
          "some high school",
          "some high school",
          "some high school",
          "some high school",
          "some high school",
          "some high school",
          "some high school",
          "some high school",
          "some high school",
          "some high school",
          "some high school",
          "some high school",
          "some high school",
          "some high school",
          "some high school",
          "some high school",
          "some high school",
          "some high school",
          "some high school",
          "some high school",
          "some high school",
          "some high school",
          "some high school",
          "some high school",
          "some high school",
          "some high school",
          "some high school",
          "some high school",
          "some high school",
          "some high school",
          "some high school",
          "some high school",
          "some high school",
          "some high school",
          "some high school",
          "some high school",
          "some high school",
          "some high school",
          "some high school",
          "some high school",
          "some high school",
          "some high school",
          "some high school",
          "some high school",
          "some high school",
          "some high school",
          "some high school",
          "some high school",
          "some high school",
          "some high school",
          "some high school",
          "some high school",
          "some high school",
          "some high school",
          "some high school",
          "some high school",
          "some high school",
          "some high school",
          "some high school",
          "some high school",
          "some high school",
          "some high school",
          "some high school",
          "some high school",
          "some high school",
          "some high school",
          "some high school",
          "some high school",
          "some high school",
          "some high school",
          "some high school",
          "some high school",
          "some high school",
          "some high school",
          "some high school",
          "some high school",
          "some high school",
          "some high school",
          "some high school",
          "some high school",
          "some high school",
          "some high school",
          "some high school",
          "some high school",
          "some high school",
          "some high school",
          "some high school",
          "some high school",
          "some high school",
          "some high school",
          "some high school",
          "some high school",
          "some high school",
          "some high school",
          "some high school",
          "some high school",
          "some high school",
          "some high school",
          "some high school",
          "some high school",
          "some high school",
          "some high school",
          "some high school",
          "some high school",
          "some high school",
          "some high school",
          "some high school",
          "some high school",
          "some high school",
          "some high school",
          "some high school",
          "some high school",
          "some high school",
          "some high school",
          "some high school",
          "some high school",
          "some high school",
          "some high school",
          "some high school",
          "some high school",
          "some high school",
          "some high school",
          "some high school",
          "some high school",
          "some high school",
          "some high school",
          "some high school",
          "some high school",
          "some high school",
          "some high school",
          "some high school",
          "some high school",
          "some high school",
          "some high school",
          "some high school",
          "some high school",
          "some high school",
          "some high school",
          "some high school",
          "some high school",
          "some high school",
          "some high school",
          "some high school",
          "some high school",
          "some high school"
         ],
         "xbins": {
          "size": 0.1
         }
        }
       ],
       "layout": {
        "showlegend": true,
        "template": {
         "data": {
          "bar": [
           {
            "error_x": {
             "color": "#2a3f5f"
            },
            "error_y": {
             "color": "#2a3f5f"
            },
            "marker": {
             "line": {
              "color": "#E5ECF6",
              "width": 0.5
             }
            },
            "type": "bar"
           }
          ],
          "barpolar": [
           {
            "marker": {
             "line": {
              "color": "#E5ECF6",
              "width": 0.5
             }
            },
            "type": "barpolar"
           }
          ],
          "carpet": [
           {
            "aaxis": {
             "endlinecolor": "#2a3f5f",
             "gridcolor": "white",
             "linecolor": "white",
             "minorgridcolor": "white",
             "startlinecolor": "#2a3f5f"
            },
            "baxis": {
             "endlinecolor": "#2a3f5f",
             "gridcolor": "white",
             "linecolor": "white",
             "minorgridcolor": "white",
             "startlinecolor": "#2a3f5f"
            },
            "type": "carpet"
           }
          ],
          "choropleth": [
           {
            "colorbar": {
             "outlinewidth": 0,
             "ticks": ""
            },
            "type": "choropleth"
           }
          ],
          "contour": [
           {
            "colorbar": {
             "outlinewidth": 0,
             "ticks": ""
            },
            "colorscale": [
             [
              0,
              "#0d0887"
             ],
             [
              0.1111111111111111,
              "#46039f"
             ],
             [
              0.2222222222222222,
              "#7201a8"
             ],
             [
              0.3333333333333333,
              "#9c179e"
             ],
             [
              0.4444444444444444,
              "#bd3786"
             ],
             [
              0.5555555555555556,
              "#d8576b"
             ],
             [
              0.6666666666666666,
              "#ed7953"
             ],
             [
              0.7777777777777778,
              "#fb9f3a"
             ],
             [
              0.8888888888888888,
              "#fdca26"
             ],
             [
              1,
              "#f0f921"
             ]
            ],
            "type": "contour"
           }
          ],
          "contourcarpet": [
           {
            "colorbar": {
             "outlinewidth": 0,
             "ticks": ""
            },
            "type": "contourcarpet"
           }
          ],
          "heatmap": [
           {
            "colorbar": {
             "outlinewidth": 0,
             "ticks": ""
            },
            "colorscale": [
             [
              0,
              "#0d0887"
             ],
             [
              0.1111111111111111,
              "#46039f"
             ],
             [
              0.2222222222222222,
              "#7201a8"
             ],
             [
              0.3333333333333333,
              "#9c179e"
             ],
             [
              0.4444444444444444,
              "#bd3786"
             ],
             [
              0.5555555555555556,
              "#d8576b"
             ],
             [
              0.6666666666666666,
              "#ed7953"
             ],
             [
              0.7777777777777778,
              "#fb9f3a"
             ],
             [
              0.8888888888888888,
              "#fdca26"
             ],
             [
              1,
              "#f0f921"
             ]
            ],
            "type": "heatmap"
           }
          ],
          "heatmapgl": [
           {
            "colorbar": {
             "outlinewidth": 0,
             "ticks": ""
            },
            "colorscale": [
             [
              0,
              "#0d0887"
             ],
             [
              0.1111111111111111,
              "#46039f"
             ],
             [
              0.2222222222222222,
              "#7201a8"
             ],
             [
              0.3333333333333333,
              "#9c179e"
             ],
             [
              0.4444444444444444,
              "#bd3786"
             ],
             [
              0.5555555555555556,
              "#d8576b"
             ],
             [
              0.6666666666666666,
              "#ed7953"
             ],
             [
              0.7777777777777778,
              "#fb9f3a"
             ],
             [
              0.8888888888888888,
              "#fdca26"
             ],
             [
              1,
              "#f0f921"
             ]
            ],
            "type": "heatmapgl"
           }
          ],
          "histogram": [
           {
            "marker": {
             "colorbar": {
              "outlinewidth": 0,
              "ticks": ""
             }
            },
            "type": "histogram"
           }
          ],
          "histogram2d": [
           {
            "colorbar": {
             "outlinewidth": 0,
             "ticks": ""
            },
            "colorscale": [
             [
              0,
              "#0d0887"
             ],
             [
              0.1111111111111111,
              "#46039f"
             ],
             [
              0.2222222222222222,
              "#7201a8"
             ],
             [
              0.3333333333333333,
              "#9c179e"
             ],
             [
              0.4444444444444444,
              "#bd3786"
             ],
             [
              0.5555555555555556,
              "#d8576b"
             ],
             [
              0.6666666666666666,
              "#ed7953"
             ],
             [
              0.7777777777777778,
              "#fb9f3a"
             ],
             [
              0.8888888888888888,
              "#fdca26"
             ],
             [
              1,
              "#f0f921"
             ]
            ],
            "type": "histogram2d"
           }
          ],
          "histogram2dcontour": [
           {
            "colorbar": {
             "outlinewidth": 0,
             "ticks": ""
            },
            "colorscale": [
             [
              0,
              "#0d0887"
             ],
             [
              0.1111111111111111,
              "#46039f"
             ],
             [
              0.2222222222222222,
              "#7201a8"
             ],
             [
              0.3333333333333333,
              "#9c179e"
             ],
             [
              0.4444444444444444,
              "#bd3786"
             ],
             [
              0.5555555555555556,
              "#d8576b"
             ],
             [
              0.6666666666666666,
              "#ed7953"
             ],
             [
              0.7777777777777778,
              "#fb9f3a"
             ],
             [
              0.8888888888888888,
              "#fdca26"
             ],
             [
              1,
              "#f0f921"
             ]
            ],
            "type": "histogram2dcontour"
           }
          ],
          "mesh3d": [
           {
            "colorbar": {
             "outlinewidth": 0,
             "ticks": ""
            },
            "type": "mesh3d"
           }
          ],
          "parcoords": [
           {
            "line": {
             "colorbar": {
              "outlinewidth": 0,
              "ticks": ""
             }
            },
            "type": "parcoords"
           }
          ],
          "pie": [
           {
            "automargin": true,
            "type": "pie"
           }
          ],
          "scatter": [
           {
            "marker": {
             "colorbar": {
              "outlinewidth": 0,
              "ticks": ""
             }
            },
            "type": "scatter"
           }
          ],
          "scatter3d": [
           {
            "line": {
             "colorbar": {
              "outlinewidth": 0,
              "ticks": ""
             }
            },
            "marker": {
             "colorbar": {
              "outlinewidth": 0,
              "ticks": ""
             }
            },
            "type": "scatter3d"
           }
          ],
          "scattercarpet": [
           {
            "marker": {
             "colorbar": {
              "outlinewidth": 0,
              "ticks": ""
             }
            },
            "type": "scattercarpet"
           }
          ],
          "scattergeo": [
           {
            "marker": {
             "colorbar": {
              "outlinewidth": 0,
              "ticks": ""
             }
            },
            "type": "scattergeo"
           }
          ],
          "scattergl": [
           {
            "marker": {
             "colorbar": {
              "outlinewidth": 0,
              "ticks": ""
             }
            },
            "type": "scattergl"
           }
          ],
          "scattermapbox": [
           {
            "marker": {
             "colorbar": {
              "outlinewidth": 0,
              "ticks": ""
             }
            },
            "type": "scattermapbox"
           }
          ],
          "scatterpolar": [
           {
            "marker": {
             "colorbar": {
              "outlinewidth": 0,
              "ticks": ""
             }
            },
            "type": "scatterpolar"
           }
          ],
          "scatterpolargl": [
           {
            "marker": {
             "colorbar": {
              "outlinewidth": 0,
              "ticks": ""
             }
            },
            "type": "scatterpolargl"
           }
          ],
          "scatterternary": [
           {
            "marker": {
             "colorbar": {
              "outlinewidth": 0,
              "ticks": ""
             }
            },
            "type": "scatterternary"
           }
          ],
          "surface": [
           {
            "colorbar": {
             "outlinewidth": 0,
             "ticks": ""
            },
            "colorscale": [
             [
              0,
              "#0d0887"
             ],
             [
              0.1111111111111111,
              "#46039f"
             ],
             [
              0.2222222222222222,
              "#7201a8"
             ],
             [
              0.3333333333333333,
              "#9c179e"
             ],
             [
              0.4444444444444444,
              "#bd3786"
             ],
             [
              0.5555555555555556,
              "#d8576b"
             ],
             [
              0.6666666666666666,
              "#ed7953"
             ],
             [
              0.7777777777777778,
              "#fb9f3a"
             ],
             [
              0.8888888888888888,
              "#fdca26"
             ],
             [
              1,
              "#f0f921"
             ]
            ],
            "type": "surface"
           }
          ],
          "table": [
           {
            "cells": {
             "fill": {
              "color": "#EBF0F8"
             },
             "line": {
              "color": "white"
             }
            },
            "header": {
             "fill": {
              "color": "#C8D4E3"
             },
             "line": {
              "color": "white"
             }
            },
            "type": "table"
           }
          ]
         },
         "layout": {
          "annotationdefaults": {
           "arrowcolor": "#2a3f5f",
           "arrowhead": 0,
           "arrowwidth": 1
          },
          "coloraxis": {
           "colorbar": {
            "outlinewidth": 0,
            "ticks": ""
           }
          },
          "colorscale": {
           "diverging": [
            [
             0,
             "#8e0152"
            ],
            [
             0.1,
             "#c51b7d"
            ],
            [
             0.2,
             "#de77ae"
            ],
            [
             0.3,
             "#f1b6da"
            ],
            [
             0.4,
             "#fde0ef"
            ],
            [
             0.5,
             "#f7f7f7"
            ],
            [
             0.6,
             "#e6f5d0"
            ],
            [
             0.7,
             "#b8e186"
            ],
            [
             0.8,
             "#7fbc41"
            ],
            [
             0.9,
             "#4d9221"
            ],
            [
             1,
             "#276419"
            ]
           ],
           "sequential": [
            [
             0,
             "#0d0887"
            ],
            [
             0.1111111111111111,
             "#46039f"
            ],
            [
             0.2222222222222222,
             "#7201a8"
            ],
            [
             0.3333333333333333,
             "#9c179e"
            ],
            [
             0.4444444444444444,
             "#bd3786"
            ],
            [
             0.5555555555555556,
             "#d8576b"
            ],
            [
             0.6666666666666666,
             "#ed7953"
            ],
            [
             0.7777777777777778,
             "#fb9f3a"
            ],
            [
             0.8888888888888888,
             "#fdca26"
            ],
            [
             1,
             "#f0f921"
            ]
           ],
           "sequentialminus": [
            [
             0,
             "#0d0887"
            ],
            [
             0.1111111111111111,
             "#46039f"
            ],
            [
             0.2222222222222222,
             "#7201a8"
            ],
            [
             0.3333333333333333,
             "#9c179e"
            ],
            [
             0.4444444444444444,
             "#bd3786"
            ],
            [
             0.5555555555555556,
             "#d8576b"
            ],
            [
             0.6666666666666666,
             "#ed7953"
            ],
            [
             0.7777777777777778,
             "#fb9f3a"
            ],
            [
             0.8888888888888888,
             "#fdca26"
            ],
            [
             1,
             "#f0f921"
            ]
           ]
          },
          "colorway": [
           "#636efa",
           "#EF553B",
           "#00cc96",
           "#ab63fa",
           "#FFA15A",
           "#19d3f3",
           "#FF6692",
           "#B6E880",
           "#FF97FF",
           "#FECB52"
          ],
          "font": {
           "color": "#2a3f5f"
          },
          "geo": {
           "bgcolor": "white",
           "lakecolor": "white",
           "landcolor": "#E5ECF6",
           "showlakes": true,
           "showland": true,
           "subunitcolor": "white"
          },
          "hoverlabel": {
           "align": "left"
          },
          "hovermode": "closest",
          "mapbox": {
           "style": "light"
          },
          "paper_bgcolor": "white",
          "plot_bgcolor": "#E5ECF6",
          "polar": {
           "angularaxis": {
            "gridcolor": "white",
            "linecolor": "white",
            "ticks": ""
           },
           "bgcolor": "#E5ECF6",
           "radialaxis": {
            "gridcolor": "white",
            "linecolor": "white",
            "ticks": ""
           }
          },
          "scene": {
           "xaxis": {
            "backgroundcolor": "#E5ECF6",
            "gridcolor": "white",
            "gridwidth": 2,
            "linecolor": "white",
            "showbackground": true,
            "ticks": "",
            "zerolinecolor": "white"
           },
           "yaxis": {
            "backgroundcolor": "#E5ECF6",
            "gridcolor": "white",
            "gridwidth": 2,
            "linecolor": "white",
            "showbackground": true,
            "ticks": "",
            "zerolinecolor": "white"
           },
           "zaxis": {
            "backgroundcolor": "#E5ECF6",
            "gridcolor": "white",
            "gridwidth": 2,
            "linecolor": "white",
            "showbackground": true,
            "ticks": "",
            "zerolinecolor": "white"
           }
          },
          "shapedefaults": {
           "line": {
            "color": "#2a3f5f"
           }
          },
          "ternary": {
           "aaxis": {
            "gridcolor": "white",
            "linecolor": "white",
            "ticks": ""
           },
           "baxis": {
            "gridcolor": "white",
            "linecolor": "white",
            "ticks": ""
           },
           "bgcolor": "#E5ECF6",
           "caxis": {
            "gridcolor": "white",
            "linecolor": "white",
            "ticks": ""
           }
          },
          "title": {
           "x": 0.05
          },
          "xaxis": {
           "automargin": true,
           "gridcolor": "white",
           "linecolor": "white",
           "ticks": "",
           "title": {
            "standoff": 15
           },
           "zerolinecolor": "white",
           "zerolinewidth": 2
          },
          "yaxis": {
           "automargin": true,
           "gridcolor": "white",
           "linecolor": "white",
           "ticks": "",
           "title": {
            "standoff": 15
           },
           "zerolinecolor": "white",
           "zerolinewidth": 2
          }
         }
        },
        "title": {
         "text": "Parental level of education distribution histogram"
        },
        "xaxis": {
         "title": {
          "text": "Level of education"
         }
        },
        "yaxis": {
         "title": {
          "text": "Count"
         }
        }
       }
      }
     },
     "metadata": {},
     "output_type": "display_data"
    }
   ],
   "source": [
    "#Parental level of education preview\n",
    "A= df['parental level of education'].nunique()\n",
    "B=df['parental level of education'].unique()\n",
    "print()\n",
    "\n",
    "print(\"There are \", A, \" different levels of education: \", B)\n",
    "print(\"The correct descending order is: masters, bachelors, associate, some college, high school and some high school. For simplicity I will change values of levels of education from 1 to 6, 1 standing for some high school and 6 for masters\")\n",
    "df.replace(to_replace =\"some high school\", value =1)\n",
    "df.replace(to_replace =\"high school\", value =2)\n",
    "df.replace(to_replace =\"some college\", value =3)\n",
    "df.replace(to_replace =\"associate\", value =4)\n",
    "df.replace(to_replace =\"bachelors\", value =5)\n",
    "df.replace(to_replace =\"masters\", value =6)\n",
    "print(df.head())\n",
    "df['BrandName'].replace(['ABC', 'AB'], 'A')\n",
    "\n",
    "#masters\n",
    "#bachelors\n",
    "#associate\n",
    "#some college\n",
    "#high school\n",
    "#some high school\n",
    "\n",
    "#level_df = {'some high school', 'high school', 'some college', 'associate', 'bachelors', 'masters'}\n",
    "\n",
    "#df = pd.DataFrame(df, columns=sorted(level_df, key=level_df.get))\n",
    "\n",
    "fig = go.Figure()\n",
    "fig.add_trace(go.Histogram(\n",
    "    x=df[\"parental level of education\"],\n",
    "    name='Students', # name used in legend and hover labels\n",
    "    xbins=dict( # bins used for histogram\n",
    "        size=0.1\n",
    "        \n",
    "    ),\n",
    "    marker_color='#EB89B6',\n",
    "    opacity=0.75\n",
    "))\n",
    "\n",
    "\n",
    "fig.update_layout(\n",
    "    title_text='Parental level of education distribution histogram', # title of plot\n",
    "    xaxis_title_text='Level of education', # xaxis label\n",
    "    yaxis_title_text='Count', # yaxis label\n",
    "    showlegend=True\n",
    "   \n",
    "    \n",
    ")\n",
    "\n",
    "fig.show()"
   ]
  },
  {
   "cell_type": "code",
   "metadata": {},
   "outputs": [],
   "source": []
  }
 ]
}