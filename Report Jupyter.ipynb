{
 "nbformat": 4,
 "nbformat_minor": 2,
 "metadata": {
  "language_info": {
   "name": "python",
   "codemirror_mode": {
    "name": "ipython",
    "version": 3
   },
   "version": "3.7.4"
  },
  "orig_nbformat": 2,
  "file_extension": ".py",
  "mimetype": "text/x-python",
  "name": "python",
  "npconvert_exporter": "python",
  "pygments_lexer": "ipython3",
  "version": 3
 },
 "cells": [
  {
   "cell_type": "code",
   "execution_count": 25,
   "metadata": {},
   "outputs": [
    {
     "name": "stdout",
     "output_type": "stream",
     "text": "Pandas imported successfully, version: 0.25.1\nSciPy imported successfully, version: 1.3.1\nSeaborn imported successfully, version: 0.9.0\nPlotly imported successfully, version: 4.3.0\n"
    }
   ],
   "source": [
    "#importing libraries\n",
    "import pandas as pd\n",
    "print(\"Pandas imported successfully, version: \"+pd.__version__)\n",
    "import scipy as sm\n",
    "from scipy.stats import *\n",
    "print(\"SciPy imported successfully, version: \"+sm.__version__)\n",
    "import seaborn as sns\n",
    "print(\"Seaborn imported successfully, version: \"+sns.__version__)\n",
    "sns.set(style=\"whitegrid\")\n",
    "import plotly\n",
    "print(\"Plotly imported successfully, version: \"+plotly.__version__)\n",
    "from sklearn.decomposition import PCA #For performing principle component analysis"
   ]
  },
  {
   "cell_type": "code",
   "execution_count": 26,
   "metadata": {},
   "outputs": [
    {
     "name": "stdout",
     "output_type": "stream",
     "text": "\nFor this report I will be using 'Students Performance in Exams' dataset from Kaggle available from: https://www.kaggle.com/spscientist/students-performance-in-exams\n\nThis dataset is most probably fictional and consits of Marks secured by the students in high school Students from the United States:\n"
    }
   ],
   "source": [
    "#importing dataset\n",
    "print()\n",
    "print(\"For this report I will be using 'Students Performance in Exams' dataset from Kaggle available from: https://www.kaggle.com/spscientist/students-performance-in-exams\")\n",
    "print()\n",
    "print(\"This dataset is most probably fictional and consits of Marks secured by the students in high school Students from the United States:\")\n",
    "df = pd.read_csv('StudentsPerformance.csv')"
   ]
  },
  {
   "cell_type": "code",
   "execution_count": 27,
   "metadata": {},
   "outputs": [
    {
     "name": "stdout",
     "output_type": "stream",
     "text": "gender race/ethnicity parental level of education         lunch  \\\n0  female        group B           bachelor's degree      standard   \n1  female        group C                some college      standard   \n2  female        group B             master's degree      standard   \n3    male        group A          associate's degree  free/reduced   \n4    male        group C                some college      standard   \n\n  test preparation course  math score  reading score  writing score  \n0                    none          72             72             74  \n1               completed          69             90             88  \n2                    none          90             95             93  \n3                    none          47             57             44  \n4                    none          76             78             75  \n\nThis dataset contains  1000  entries and  8  properties for each entry:  ['gender', 'race/ethnicity', 'parental level of education', 'lunch', 'test preparation course', 'math score', 'reading score', 'writing score']\n"
    }
   ],
   "source": [
    "#looking at the data\n",
    "print(df.head(5))\n",
    "print()\n",
    "count_row = df.shape[0]\n",
    "count_col = df.shape[1]\n",
    "print(\"This dataset contains \", count_row, \" entries and \", count_col, \" properties for each entry: \", list(df.columns))"
   ]
  },
  {
   "cell_type": "code",
   "execution_count": 28,
   "metadata": {},
   "outputs": [
    {
     "name": "stdout",
     "output_type": "stream",
     "text": "gender                         0\nrace/ethnicity                 0\nparental level of education    0\nlunch                          0\ntest preparation course        0\nmath score                     0\nreading score                  0\nwriting score                  0\ndtype: int64\n\n There is no missing data on this dataset\n"
    }
   ],
   "source": [
    "#checking for missing data\n",
    "B = df.isnull().sum()\n",
    "print(B)\n",
    "print()\n",
    "print(\" There is no missing data on this dataset\")"
   ]
  },
  {
   "cell_type": "code",
   "execution_count": 29,
   "metadata": {},
   "outputs": [
    {
     "data": {
      "application/vnd.plotly.v1+json": {
       "config": {
        "plotlyServerURL": "https://plot.ly"
       },
       "data": [
        {
         "marker": {
          "color": "#EB89B6"
         },
         "name": "Students",
         "opacity": 0.75,
         "type": "histogram",
         "x": [
          "female",
          "female",
          "female",
          "male",
          "male",
          "female",
          "female",
          "male",
          "male",
          "female",
          "male",
          "male",
          "female",
          "male",
          "female",
          "female",
          "male",
          "female",
          "male",
          "female",
          "male",
          "female",
          "male",
          "female",
          "male",
          "male",
          "male",
          "female",
          "male",
          "female",
          "female",
          "female",
          "female",
          "male",
          "male",
          "male",
          "female",
          "female",
          "female",
          "male",
          "male",
          "female",
          "female",
          "male",
          "female",
          "male",
          "female",
          "female",
          "female",
          "male",
          "male",
          "male",
          "male",
          "male",
          "female",
          "female",
          "female",
          "male",
          "male",
          "female",
          "male",
          "male",
          "male",
          "female",
          "female",
          "male",
          "male",
          "female",
          "male",
          "female",
          "female",
          "male",
          "female",
          "male",
          "male",
          "male",
          "male",
          "male",
          "female",
          "female",
          "female",
          "male",
          "male",
          "male",
          "male",
          "female",
          "female",
          "female",
          "female",
          "female",
          "female",
          "male",
          "male",
          "male",
          "female",
          "male",
          "male",
          "female",
          "female",
          "female",
          "male",
          "male",
          "female",
          "male",
          "male",
          "female",
          "female",
          "male",
          "female",
          "female",
          "female",
          "male",
          "male",
          "female",
          "female",
          "male",
          "female",
          "female",
          "female",
          "female",
          "female",
          "male",
          "female",
          "male",
          "male",
          "female",
          "male",
          "male",
          "male",
          "female",
          "male",
          "male",
          "male",
          "female",
          "male",
          "male",
          "male",
          "male",
          "female",
          "male",
          "female",
          "female",
          "female",
          "male",
          "male",
          "female",
          "male",
          "male",
          "female",
          "male",
          "male",
          "male",
          "female",
          "male",
          "male",
          "female",
          "female",
          "male",
          "female",
          "male",
          "male",
          "female",
          "male",
          "male",
          "female",
          "female",
          "male",
          "female",
          "female",
          "female",
          "male",
          "male",
          "female",
          "female",
          "female",
          "female",
          "female",
          "female",
          "female",
          "female",
          "male",
          "female",
          "female",
          "female",
          "male",
          "male",
          "male",
          "male",
          "male",
          "female",
          "female",
          "male",
          "female",
          "male",
          "female",
          "male",
          "male",
          "male",
          "female",
          "female",
          "female",
          "female",
          "male",
          "female",
          "male",
          "male",
          "male",
          "male",
          "female",
          "female",
          "male",
          "male",
          "female",
          "male",
          "male",
          "male",
          "female",
          "female",
          "male",
          "male",
          "female",
          "male",
          "female",
          "male",
          "female",
          "female",
          "female",
          "male",
          "male",
          "female",
          "male",
          "male",
          "female",
          "male",
          "male",
          "male",
          "male",
          "female",
          "male",
          "male",
          "male",
          "female",
          "female",
          "male",
          "male",
          "male",
          "male",
          "female",
          "female",
          "male",
          "male",
          "female",
          "female",
          "male",
          "male",
          "female",
          "female",
          "male",
          "female",
          "female",
          "female",
          "male",
          "female",
          "female",
          "male",
          "male",
          "female",
          "female",
          "female",
          "female",
          "male",
          "male",
          "female",
          "female",
          "male",
          "male",
          "female",
          "female",
          "female",
          "male",
          "male",
          "male",
          "female",
          "female",
          "female",
          "male",
          "male",
          "female",
          "male",
          "male",
          "male",
          "male",
          "male",
          "female",
          "male",
          "male",
          "male",
          "male",
          "male",
          "male",
          "male",
          "male",
          "female",
          "male",
          "female",
          "male",
          "male",
          "male",
          "female",
          "female",
          "female",
          "male",
          "male",
          "female",
          "female",
          "male",
          "female",
          "male",
          "male",
          "female",
          "female",
          "female",
          "female",
          "female",
          "female",
          "female",
          "male",
          "male",
          "male",
          "female",
          "male",
          "male",
          "male",
          "male",
          "female",
          "female",
          "male",
          "male",
          "female",
          "female",
          "male",
          "female",
          "female",
          "male",
          "male",
          "female",
          "male",
          "female",
          "male",
          "male",
          "female",
          "male",
          "female",
          "female",
          "female",
          "female",
          "male",
          "female",
          "male",
          "female",
          "female",
          "male",
          "female",
          "female",
          "male",
          "male",
          "male",
          "male",
          "female",
          "female",
          "male",
          "female",
          "male",
          "female",
          "female",
          "male",
          "female",
          "female",
          "female",
          "male",
          "female",
          "male",
          "male",
          "female",
          "female",
          "female",
          "female",
          "female",
          "female",
          "male",
          "male",
          "female",
          "male",
          "male",
          "female",
          "male",
          "female",
          "female",
          "male",
          "male",
          "female",
          "male",
          "female",
          "female",
          "female",
          "female",
          "male",
          "female",
          "female",
          "male",
          "female",
          "male",
          "male",
          "male",
          "female",
          "male",
          "male",
          "male",
          "male",
          "male",
          "female",
          "female",
          "female",
          "female",
          "male",
          "female",
          "male",
          "male",
          "male",
          "male",
          "male",
          "female",
          "male",
          "female",
          "male",
          "male",
          "male",
          "male",
          "male",
          "male",
          "female",
          "female",
          "female",
          "female",
          "male",
          "female",
          "male",
          "male",
          "male",
          "male",
          "female",
          "female",
          "female",
          "male",
          "female",
          "male",
          "female",
          "male",
          "female",
          "male",
          "male",
          "male",
          "female",
          "female",
          "male",
          "female",
          "female",
          "male",
          "female",
          "male",
          "female",
          "female",
          "female",
          "female",
          "female",
          "female",
          "male",
          "male",
          "female",
          "male",
          "male",
          "female",
          "male",
          "male",
          "female",
          "male",
          "male",
          "female",
          "male",
          "male",
          "female",
          "female",
          "female",
          "female",
          "female",
          "male",
          "female",
          "female",
          "female",
          "male",
          "female",
          "female",
          "male",
          "female",
          "female",
          "female",
          "male",
          "male",
          "male",
          "female",
          "male",
          "male",
          "male",
          "female",
          "female",
          "female",
          "female",
          "female",
          "female",
          "female",
          "male",
          "female",
          "male",
          "male",
          "male",
          "male",
          "male",
          "female",
          "female",
          "female",
          "female",
          "female",
          "male",
          "female",
          "male",
          "female",
          "male",
          "female",
          "male",
          "male",
          "male",
          "male",
          "female",
          "female",
          "female",
          "male",
          "female",
          "male",
          "female",
          "male",
          "male",
          "male",
          "female",
          "male",
          "male",
          "female",
          "female",
          "male",
          "female",
          "male",
          "female",
          "female",
          "male",
          "female",
          "male",
          "male",
          "female",
          "female",
          "male",
          "male",
          "male",
          "male",
          "female",
          "female",
          "female",
          "male",
          "male",
          "female",
          "female",
          "female",
          "female",
          "female",
          "female",
          "female",
          "female",
          "female",
          "female",
          "female",
          "female",
          "female",
          "male",
          "male",
          "male",
          "female",
          "female",
          "female",
          "male",
          "male",
          "female",
          "female",
          "female",
          "female",
          "female",
          "male",
          "male",
          "male",
          "female",
          "female",
          "female",
          "female",
          "male",
          "female",
          "male",
          "female",
          "female",
          "female",
          "female",
          "male",
          "male",
          "male",
          "female",
          "male",
          "male",
          "male",
          "female",
          "male",
          "male",
          "male",
          "male",
          "female",
          "male",
          "male",
          "female",
          "female",
          "male",
          "male",
          "female",
          "female",
          "male",
          "female",
          "male",
          "female",
          "female",
          "female",
          "male",
          "female",
          "female",
          "female",
          "female",
          "female",
          "male",
          "female",
          "female",
          "female",
          "female",
          "female",
          "male",
          "male",
          "female",
          "male",
          "male",
          "male",
          "female",
          "female",
          "male",
          "female",
          "female",
          "female",
          "male",
          "male",
          "female",
          "male",
          "female",
          "female",
          "female",
          "female",
          "female",
          "female",
          "male",
          "male",
          "female",
          "male",
          "male",
          "female",
          "male",
          "female",
          "male",
          "male",
          "male",
          "male",
          "female",
          "female",
          "female",
          "female",
          "female",
          "female",
          "female",
          "female",
          "female",
          "male",
          "female",
          "female",
          "male",
          "female",
          "female",
          "male",
          "male",
          "male",
          "male",
          "female",
          "male",
          "female",
          "female",
          "male",
          "female",
          "female",
          "male",
          "female",
          "female",
          "male",
          "female",
          "male",
          "female",
          "male",
          "male",
          "male",
          "female",
          "male",
          "female",
          "male",
          "female",
          "male",
          "female",
          "male",
          "female",
          "male",
          "male",
          "female",
          "male",
          "male",
          "male",
          "female",
          "female",
          "female",
          "male",
          "male",
          "male",
          "male",
          "female",
          "male",
          "male",
          "male",
          "male",
          "female",
          "male",
          "female",
          "male",
          "male",
          "female",
          "male",
          "female",
          "female",
          "male",
          "female",
          "male",
          "female",
          "female",
          "male",
          "female",
          "male",
          "male",
          "male",
          "female",
          "female",
          "male",
          "female",
          "female",
          "female",
          "female",
          "male",
          "female",
          "female",
          "female",
          "female",
          "male",
          "female",
          "female",
          "female",
          "male",
          "female",
          "female",
          "female",
          "male",
          "male",
          "female",
          "female",
          "male",
          "female",
          "male",
          "female",
          "male",
          "male",
          "female",
          "female",
          "female",
          "male",
          "female",
          "female",
          "male",
          "male",
          "male",
          "male",
          "female",
          "male",
          "female",
          "male",
          "female",
          "male",
          "female",
          "female",
          "female",
          "female",
          "male",
          "female",
          "female",
          "male",
          "female",
          "female",
          "female",
          "male",
          "female",
          "female",
          "male",
          "female",
          "male",
          "female",
          "male",
          "female",
          "male",
          "female",
          "female",
          "male",
          "female",
          "male",
          "female",
          "male",
          "male",
          "male",
          "female",
          "male",
          "male",
          "female",
          "female",
          "male",
          "male",
          "female",
          "male",
          "female",
          "male",
          "male",
          "female",
          "female",
          "male",
          "female",
          "male",
          "male",
          "male",
          "male",
          "male",
          "male",
          "male",
          "female",
          "male",
          "male",
          "female",
          "male",
          "male",
          "male",
          "female",
          "female",
          "male",
          "female",
          "female",
          "male",
          "female",
          "female",
          "female",
          "male",
          "female",
          "male",
          "female",
          "female",
          "female",
          "male",
          "female",
          "female",
          "male",
          "female",
          "male",
          "female",
          "male",
          "female",
          "female",
          "female",
          "female",
          "male",
          "male",
          "female",
          "female",
          "male",
          "male",
          "female",
          "female",
          "female",
          "female",
          "female",
          "male",
          "female",
          "female",
          "male",
          "male",
          "female",
          "male",
          "female",
          "male",
          "male",
          "male",
          "female",
          "male",
          "female",
          "male",
          "male",
          "male",
          "male",
          "male",
          "male",
          "male",
          "female",
          "male",
          "male",
          "male",
          "female",
          "male",
          "male",
          "female",
          "female",
          "male",
          "female",
          "male",
          "female",
          "male",
          "female",
          "female",
          "male",
          "female",
          "male",
          "male",
          "female",
          "female",
          "male",
          "female",
          "female",
          "female",
          "female",
          "male",
          "female",
          "male",
          "male",
          "female",
          "female",
          "female",
          "male",
          "female",
          "female",
          "female",
          "female",
          "male",
          "male",
          "male",
          "female",
          "female",
          "male",
          "male",
          "female",
          "female",
          "male",
          "female",
          "male",
          "female",
          "female",
          "male",
          "female",
          "female",
          "female",
          "male",
          "female",
          "male",
          "female",
          "female",
          "female"
         ],
         "xbins": {
          "size": 0.1
         }
        }
       ],
       "layout": {
        "showlegend": true,
        "template": {
         "data": {
          "bar": [
           {
            "error_x": {
             "color": "#2a3f5f"
            },
            "error_y": {
             "color": "#2a3f5f"
            },
            "marker": {
             "line": {
              "color": "#E5ECF6",
              "width": 0.5
             }
            },
            "type": "bar"
           }
          ],
          "barpolar": [
           {
            "marker": {
             "line": {
              "color": "#E5ECF6",
              "width": 0.5
             }
            },
            "type": "barpolar"
           }
          ],
          "carpet": [
           {
            "aaxis": {
             "endlinecolor": "#2a3f5f",
             "gridcolor": "white",
             "linecolor": "white",
             "minorgridcolor": "white",
             "startlinecolor": "#2a3f5f"
            },
            "baxis": {
             "endlinecolor": "#2a3f5f",
             "gridcolor": "white",
             "linecolor": "white",
             "minorgridcolor": "white",
             "startlinecolor": "#2a3f5f"
            },
            "type": "carpet"
           }
          ],
          "choropleth": [
           {
            "colorbar": {
             "outlinewidth": 0,
             "ticks": ""
            },
            "type": "choropleth"
           }
          ],
          "contour": [
           {
            "colorbar": {
             "outlinewidth": 0,
             "ticks": ""
            },
            "colorscale": [
             [
              0,
              "#0d0887"
             ],
             [
              0.1111111111111111,
              "#46039f"
             ],
             [
              0.2222222222222222,
              "#7201a8"
             ],
             [
              0.3333333333333333,
              "#9c179e"
             ],
             [
              0.4444444444444444,
              "#bd3786"
             ],
             [
              0.5555555555555556,
              "#d8576b"
             ],
             [
              0.6666666666666666,
              "#ed7953"
             ],
             [
              0.7777777777777778,
              "#fb9f3a"
             ],
             [
              0.8888888888888888,
              "#fdca26"
             ],
             [
              1,
              "#f0f921"
             ]
            ],
            "type": "contour"
           }
          ],
          "contourcarpet": [
           {
            "colorbar": {
             "outlinewidth": 0,
             "ticks": ""
            },
            "type": "contourcarpet"
           }
          ],
          "heatmap": [
           {
            "colorbar": {
             "outlinewidth": 0,
             "ticks": ""
            },
            "colorscale": [
             [
              0,
              "#0d0887"
             ],
             [
              0.1111111111111111,
              "#46039f"
             ],
             [
              0.2222222222222222,
              "#7201a8"
             ],
             [
              0.3333333333333333,
              "#9c179e"
             ],
             [
              0.4444444444444444,
              "#bd3786"
             ],
             [
              0.5555555555555556,
              "#d8576b"
             ],
             [
              0.6666666666666666,
              "#ed7953"
             ],
             [
              0.7777777777777778,
              "#fb9f3a"
             ],
             [
              0.8888888888888888,
              "#fdca26"
             ],
             [
              1,
              "#f0f921"
             ]
            ],
            "type": "heatmap"
           }
          ],
          "heatmapgl": [
           {
            "colorbar": {
             "outlinewidth": 0,
             "ticks": ""
            },
            "colorscale": [
             [
              0,
              "#0d0887"
             ],
             [
              0.1111111111111111,
              "#46039f"
             ],
             [
              0.2222222222222222,
              "#7201a8"
             ],
             [
              0.3333333333333333,
              "#9c179e"
             ],
             [
              0.4444444444444444,
              "#bd3786"
             ],
             [
              0.5555555555555556,
              "#d8576b"
             ],
             [
              0.6666666666666666,
              "#ed7953"
             ],
             [
              0.7777777777777778,
              "#fb9f3a"
             ],
             [
              0.8888888888888888,
              "#fdca26"
             ],
             [
              1,
              "#f0f921"
             ]
            ],
            "type": "heatmapgl"
           }
          ],
          "histogram": [
           {
            "marker": {
             "colorbar": {
              "outlinewidth": 0,
              "ticks": ""
             }
            },
            "type": "histogram"
           }
          ],
          "histogram2d": [
           {
            "colorbar": {
             "outlinewidth": 0,
             "ticks": ""
            },
            "colorscale": [
             [
              0,
              "#0d0887"
             ],
             [
              0.1111111111111111,
              "#46039f"
             ],
             [
              0.2222222222222222,
              "#7201a8"
             ],
             [
              0.3333333333333333,
              "#9c179e"
             ],
             [
              0.4444444444444444,
              "#bd3786"
             ],
             [
              0.5555555555555556,
              "#d8576b"
             ],
             [
              0.6666666666666666,
              "#ed7953"
             ],
             [
              0.7777777777777778,
              "#fb9f3a"
             ],
             [
              0.8888888888888888,
              "#fdca26"
             ],
             [
              1,
              "#f0f921"
             ]
            ],
            "type": "histogram2d"
           }
          ],
          "histogram2dcontour": [
           {
            "colorbar": {
             "outlinewidth": 0,
             "ticks": ""
            },
            "colorscale": [
             [
              0,
              "#0d0887"
             ],
             [
              0.1111111111111111,
              "#46039f"
             ],
             [
              0.2222222222222222,
              "#7201a8"
             ],
             [
              0.3333333333333333,
              "#9c179e"
             ],
             [
              0.4444444444444444,
              "#bd3786"
             ],
             [
              0.5555555555555556,
              "#d8576b"
             ],
             [
              0.6666666666666666,
              "#ed7953"
             ],
             [
              0.7777777777777778,
              "#fb9f3a"
             ],
             [
              0.8888888888888888,
              "#fdca26"
             ],
             [
              1,
              "#f0f921"
             ]
            ],
            "type": "histogram2dcontour"
           }
          ],
          "mesh3d": [
           {
            "colorbar": {
             "outlinewidth": 0,
             "ticks": ""
            },
            "type": "mesh3d"
           }
          ],
          "parcoords": [
           {
            "line": {
             "colorbar": {
              "outlinewidth": 0,
              "ticks": ""
             }
            },
            "type": "parcoords"
           }
          ],
          "pie": [
           {
            "automargin": true,
            "type": "pie"
           }
          ],
          "scatter": [
           {
            "marker": {
             "colorbar": {
              "outlinewidth": 0,
              "ticks": ""
             }
            },
            "type": "scatter"
           }
          ],
          "scatter3d": [
           {
            "line": {
             "colorbar": {
              "outlinewidth": 0,
              "ticks": ""
             }
            },
            "marker": {
             "colorbar": {
              "outlinewidth": 0,
              "ticks": ""
             }
            },
            "type": "scatter3d"
           }
          ],
          "scattercarpet": [
           {
            "marker": {
             "colorbar": {
              "outlinewidth": 0,
              "ticks": ""
             }
            },
            "type": "scattercarpet"
           }
          ],
          "scattergeo": [
           {
            "marker": {
             "colorbar": {
              "outlinewidth": 0,
              "ticks": ""
             }
            },
            "type": "scattergeo"
           }
          ],
          "scattergl": [
           {
            "marker": {
             "colorbar": {
              "outlinewidth": 0,
              "ticks": ""
             }
            },
            "type": "scattergl"
           }
          ],
          "scattermapbox": [
           {
            "marker": {
             "colorbar": {
              "outlinewidth": 0,
              "ticks": ""
             }
            },
            "type": "scattermapbox"
           }
          ],
          "scatterpolar": [
           {
            "marker": {
             "colorbar": {
              "outlinewidth": 0,
              "ticks": ""
             }
            },
            "type": "scatterpolar"
           }
          ],
          "scatterpolargl": [
           {
            "marker": {
             "colorbar": {
              "outlinewidth": 0,
              "ticks": ""
             }
            },
            "type": "scatterpolargl"
           }
          ],
          "scatterternary": [
           {
            "marker": {
             "colorbar": {
              "outlinewidth": 0,
              "ticks": ""
             }
            },
            "type": "scatterternary"
           }
          ],
          "surface": [
           {
            "colorbar": {
             "outlinewidth": 0,
             "ticks": ""
            },
            "colorscale": [
             [
              0,
              "#0d0887"
             ],
             [
              0.1111111111111111,
              "#46039f"
             ],
             [
              0.2222222222222222,
              "#7201a8"
             ],
             [
              0.3333333333333333,
              "#9c179e"
             ],
             [
              0.4444444444444444,
              "#bd3786"
             ],
             [
              0.5555555555555556,
              "#d8576b"
             ],
             [
              0.6666666666666666,
              "#ed7953"
             ],
             [
              0.7777777777777778,
              "#fb9f3a"
             ],
             [
              0.8888888888888888,
              "#fdca26"
             ],
             [
              1,
              "#f0f921"
             ]
            ],
            "type": "surface"
           }
          ],
          "table": [
           {
            "cells": {
             "fill": {
              "color": "#EBF0F8"
             },
             "line": {
              "color": "white"
             }
            },
            "header": {
             "fill": {
              "color": "#C8D4E3"
             },
             "line": {
              "color": "white"
             }
            },
            "type": "table"
           }
          ]
         },
         "layout": {
          "annotationdefaults": {
           "arrowcolor": "#2a3f5f",
           "arrowhead": 0,
           "arrowwidth": 1
          },
          "coloraxis": {
           "colorbar": {
            "outlinewidth": 0,
            "ticks": ""
           }
          },
          "colorscale": {
           "diverging": [
            [
             0,
             "#8e0152"
            ],
            [
             0.1,
             "#c51b7d"
            ],
            [
             0.2,
             "#de77ae"
            ],
            [
             0.3,
             "#f1b6da"
            ],
            [
             0.4,
             "#fde0ef"
            ],
            [
             0.5,
             "#f7f7f7"
            ],
            [
             0.6,
             "#e6f5d0"
            ],
            [
             0.7,
             "#b8e186"
            ],
            [
             0.8,
             "#7fbc41"
            ],
            [
             0.9,
             "#4d9221"
            ],
            [
             1,
             "#276419"
            ]
           ],
           "sequential": [
            [
             0,
             "#0d0887"
            ],
            [
             0.1111111111111111,
             "#46039f"
            ],
            [
             0.2222222222222222,
             "#7201a8"
            ],
            [
             0.3333333333333333,
             "#9c179e"
            ],
            [
             0.4444444444444444,
             "#bd3786"
            ],
            [
             0.5555555555555556,
             "#d8576b"
            ],
            [
             0.6666666666666666,
             "#ed7953"
            ],
            [
             0.7777777777777778,
             "#fb9f3a"
            ],
            [
             0.8888888888888888,
             "#fdca26"
            ],
            [
             1,
             "#f0f921"
            ]
           ],
           "sequentialminus": [
            [
             0,
             "#0d0887"
            ],
            [
             0.1111111111111111,
             "#46039f"
            ],
            [
             0.2222222222222222,
             "#7201a8"
            ],
            [
             0.3333333333333333,
             "#9c179e"
            ],
            [
             0.4444444444444444,
             "#bd3786"
            ],
            [
             0.5555555555555556,
             "#d8576b"
            ],
            [
             0.6666666666666666,
             "#ed7953"
            ],
            [
             0.7777777777777778,
             "#fb9f3a"
            ],
            [
             0.8888888888888888,
             "#fdca26"
            ],
            [
             1,
             "#f0f921"
            ]
           ]
          },
          "colorway": [
           "#636efa",
           "#EF553B",
           "#00cc96",
           "#ab63fa",
           "#FFA15A",
           "#19d3f3",
           "#FF6692",
           "#B6E880",
           "#FF97FF",
           "#FECB52"
          ],
          "font": {
           "color": "#2a3f5f"
          },
          "geo": {
           "bgcolor": "white",
           "lakecolor": "white",
           "landcolor": "#E5ECF6",
           "showlakes": true,
           "showland": true,
           "subunitcolor": "white"
          },
          "hoverlabel": {
           "align": "left"
          },
          "hovermode": "closest",
          "mapbox": {
           "style": "light"
          },
          "paper_bgcolor": "white",
          "plot_bgcolor": "#E5ECF6",
          "polar": {
           "angularaxis": {
            "gridcolor": "white",
            "linecolor": "white",
            "ticks": ""
           },
           "bgcolor": "#E5ECF6",
           "radialaxis": {
            "gridcolor": "white",
            "linecolor": "white",
            "ticks": ""
           }
          },
          "scene": {
           "xaxis": {
            "backgroundcolor": "#E5ECF6",
            "gridcolor": "white",
            "gridwidth": 2,
            "linecolor": "white",
            "showbackground": true,
            "ticks": "",
            "zerolinecolor": "white"
           },
           "yaxis": {
            "backgroundcolor": "#E5ECF6",
            "gridcolor": "white",
            "gridwidth": 2,
            "linecolor": "white",
            "showbackground": true,
            "ticks": "",
            "zerolinecolor": "white"
           },
           "zaxis": {
            "backgroundcolor": "#E5ECF6",
            "gridcolor": "white",
            "gridwidth": 2,
            "linecolor": "white",
            "showbackground": true,
            "ticks": "",
            "zerolinecolor": "white"
           }
          },
          "shapedefaults": {
           "line": {
            "color": "#2a3f5f"
           }
          },
          "ternary": {
           "aaxis": {
            "gridcolor": "white",
            "linecolor": "white",
            "ticks": ""
           },
           "baxis": {
            "gridcolor": "white",
            "linecolor": "white",
            "ticks": ""
           },
           "bgcolor": "#E5ECF6",
           "caxis": {
            "gridcolor": "white",
            "linecolor": "white",
            "ticks": ""
           }
          },
          "title": {
           "x": 0.05
          },
          "xaxis": {
           "automargin": true,
           "gridcolor": "white",
           "linecolor": "white",
           "ticks": "",
           "title": {
            "standoff": 15
           },
           "zerolinecolor": "white",
           "zerolinewidth": 2
          },
          "yaxis": {
           "automargin": true,
           "gridcolor": "white",
           "linecolor": "white",
           "ticks": "",
           "title": {
            "standoff": 15
           },
           "zerolinecolor": "white",
           "zerolinewidth": 2
          }
         }
        },
        "title": {
         "text": "Student gender distribution histogram"
        },
        "xaxis": {
         "title": {
          "text": "Gender"
         }
        },
        "yaxis": {
         "title": {
          "text": "Count"
         }
        }
       }
      }
     },
     "metadata": {},
     "output_type": "display_data"
    },
    {
     "name": "stdout",
     "output_type": "stream",
     "text": "Of  1000  students there are  482  male students and  518  female students.\n"
    }
   ],
   "source": [
    "#gender preview\n",
    "\n",
    "import plotly.graph_objects as go\n",
    "fig = go.Figure()\n",
    "fig.add_trace(go.Histogram(\n",
    "    x=df[\"gender\"],\n",
    "    name='Students', # name used in legend and hover labels\n",
    "    xbins=dict( # bins used for histogram\n",
    "        size=0.1\n",
    "        \n",
    "    ),\n",
    "    marker_color='#EB89B6',\n",
    "    opacity=0.75\n",
    "))\n",
    "\n",
    "\n",
    "fig.update_layout(\n",
    "    title_text='Student gender distribution histogram', # title of plot\n",
    "    xaxis_title_text='Gender', # xaxis label\n",
    "    yaxis_title_text='Count', # yaxis label\n",
    "    showlegend=True\n",
    "   \n",
    "    \n",
    ")\n",
    "\n",
    "fig.show()\n",
    "\n",
    "males = df[\"gender\"] == \"male\"\n",
    "count_males = df[males].shape[0]\n",
    "females = df[\"gender\"] == \"female\"\n",
    "count_females = df[females].shape[0]\n",
    "\n",
    "print(\"Of \", count_row, \" students there are \", count_males, \" male students and \", count_females, \" female students.\")"
   ]
  },
  {
   "cell_type": "code",
   "execution_count": null,
   "metadata": {},
   "outputs": [],
   "source": []
  },
  {
   "cell_type": "code",
   "execution_count": 30,
   "metadata": {},
   "outputs": [
    {
     "data": {
      "application/vnd.plotly.v1+json": {
       "config": {
        "plotlyServerURL": "https://plot.ly"
       },
       "data": [
        {
         "marker": {
          "color": "#EB89B6"
         },
         "name": "Students",
         "opacity": 0.75,
         "type": "histogram",
         "x": [
          "group A",
          "group A",
          "group A",
          "group A",
          "group A",
          "group A",
          "group A",
          "group A",
          "group A",
          "group A",
          "group A",
          "group A",
          "group A",
          "group A",
          "group A",
          "group A",
          "group A",
          "group A",
          "group A",
          "group A",
          "group A",
          "group A",
          "group A",
          "group A",
          "group A",
          "group A",
          "group A",
          "group A",
          "group A",
          "group A",
          "group A",
          "group A",
          "group A",
          "group A",
          "group A",
          "group A",
          "group A",
          "group A",
          "group A",
          "group A",
          "group A",
          "group A",
          "group A",
          "group A",
          "group A",
          "group A",
          "group A",
          "group A",
          "group A",
          "group A",
          "group A",
          "group A",
          "group A",
          "group A",
          "group A",
          "group A",
          "group A",
          "group A",
          "group A",
          "group A",
          "group A",
          "group A",
          "group A",
          "group A",
          "group A",
          "group A",
          "group A",
          "group A",
          "group A",
          "group A",
          "group A",
          "group A",
          "group A",
          "group A",
          "group A",
          "group A",
          "group A",
          "group A",
          "group A",
          "group A",
          "group A",
          "group A",
          "group A",
          "group A",
          "group A",
          "group A",
          "group A",
          "group A",
          "group A",
          "group B",
          "group B",
          "group B",
          "group B",
          "group B",
          "group B",
          "group B",
          "group B",
          "group B",
          "group B",
          "group B",
          "group B",
          "group B",
          "group B",
          "group B",
          "group B",
          "group B",
          "group B",
          "group B",
          "group B",
          "group B",
          "group B",
          "group B",
          "group B",
          "group B",
          "group B",
          "group B",
          "group B",
          "group B",
          "group B",
          "group B",
          "group B",
          "group B",
          "group B",
          "group B",
          "group B",
          "group B",
          "group B",
          "group B",
          "group B",
          "group B",
          "group B",
          "group B",
          "group B",
          "group B",
          "group B",
          "group B",
          "group B",
          "group B",
          "group B",
          "group B",
          "group B",
          "group B",
          "group B",
          "group B",
          "group B",
          "group B",
          "group B",
          "group B",
          "group B",
          "group B",
          "group B",
          "group B",
          "group B",
          "group B",
          "group B",
          "group B",
          "group B",
          "group B",
          "group B",
          "group B",
          "group B",
          "group B",
          "group B",
          "group B",
          "group B",
          "group B",
          "group B",
          "group B",
          "group B",
          "group B",
          "group B",
          "group B",
          "group B",
          "group B",
          "group B",
          "group B",
          "group B",
          "group B",
          "group B",
          "group B",
          "group B",
          "group B",
          "group B",
          "group B",
          "group B",
          "group B",
          "group B",
          "group B",
          "group B",
          "group B",
          "group B",
          "group B",
          "group B",
          "group B",
          "group B",
          "group B",
          "group B",
          "group B",
          "group B",
          "group B",
          "group B",
          "group B",
          "group B",
          "group B",
          "group B",
          "group B",
          "group B",
          "group B",
          "group B",
          "group B",
          "group B",
          "group B",
          "group B",
          "group B",
          "group B",
          "group B",
          "group B",
          "group B",
          "group B",
          "group B",
          "group B",
          "group B",
          "group B",
          "group B",
          "group B",
          "group B",
          "group B",
          "group B",
          "group B",
          "group B",
          "group B",
          "group B",
          "group B",
          "group B",
          "group B",
          "group B",
          "group B",
          "group B",
          "group B",
          "group B",
          "group B",
          "group B",
          "group B",
          "group B",
          "group B",
          "group B",
          "group B",
          "group B",
          "group B",
          "group B",
          "group B",
          "group B",
          "group B",
          "group B",
          "group B",
          "group B",
          "group B",
          "group B",
          "group B",
          "group B",
          "group B",
          "group B",
          "group B",
          "group B",
          "group B",
          "group B",
          "group B",
          "group B",
          "group B",
          "group B",
          "group B",
          "group B",
          "group B",
          "group B",
          "group B",
          "group B",
          "group B",
          "group B",
          "group B",
          "group C",
          "group C",
          "group C",
          "group C",
          "group C",
          "group C",
          "group C",
          "group C",
          "group C",
          "group C",
          "group C",
          "group C",
          "group C",
          "group C",
          "group C",
          "group C",
          "group C",
          "group C",
          "group C",
          "group C",
          "group C",
          "group C",
          "group C",
          "group C",
          "group C",
          "group C",
          "group C",
          "group C",
          "group C",
          "group C",
          "group C",
          "group C",
          "group C",
          "group C",
          "group C",
          "group C",
          "group C",
          "group C",
          "group C",
          "group C",
          "group C",
          "group C",
          "group C",
          "group C",
          "group C",
          "group C",
          "group C",
          "group C",
          "group C",
          "group C",
          "group C",
          "group C",
          "group C",
          "group C",
          "group C",
          "group C",
          "group C",
          "group C",
          "group C",
          "group C",
          "group C",
          "group C",
          "group C",
          "group C",
          "group C",
          "group C",
          "group C",
          "group C",
          "group C",
          "group C",
          "group C",
          "group C",
          "group C",
          "group C",
          "group C",
          "group C",
          "group C",
          "group C",
          "group C",
          "group C",
          "group C",
          "group C",
          "group C",
          "group C",
          "group C",
          "group C",
          "group C",
          "group C",
          "group C",
          "group C",
          "group C",
          "group C",
          "group C",
          "group C",
          "group C",
          "group C",
          "group C",
          "group C",
          "group C",
          "group C",
          "group C",
          "group C",
          "group C",
          "group C",
          "group C",
          "group C",
          "group C",
          "group C",
          "group C",
          "group C",
          "group C",
          "group C",
          "group C",
          "group C",
          "group C",
          "group C",
          "group C",
          "group C",
          "group C",
          "group C",
          "group C",
          "group C",
          "group C",
          "group C",
          "group C",
          "group C",
          "group C",
          "group C",
          "group C",
          "group C",
          "group C",
          "group C",
          "group C",
          "group C",
          "group C",
          "group C",
          "group C",
          "group C",
          "group C",
          "group C",
          "group C",
          "group C",
          "group C",
          "group C",
          "group C",
          "group C",
          "group C",
          "group C",
          "group C",
          "group C",
          "group C",
          "group C",
          "group C",
          "group C",
          "group C",
          "group C",
          "group C",
          "group C",
          "group C",
          "group C",
          "group C",
          "group C",
          "group C",
          "group C",
          "group C",
          "group C",
          "group C",
          "group C",
          "group C",
          "group C",
          "group C",
          "group C",
          "group C",
          "group C",
          "group C",
          "group C",
          "group C",
          "group C",
          "group C",
          "group C",
          "group C",
          "group C",
          "group C",
          "group C",
          "group C",
          "group C",
          "group C",
          "group C",
          "group C",
          "group C",
          "group C",
          "group C",
          "group C",
          "group C",
          "group C",
          "group C",
          "group C",
          "group C",
          "group C",
          "group C",
          "group C",
          "group C",
          "group C",
          "group C",
          "group C",
          "group C",
          "group C",
          "group C",
          "group C",
          "group C",
          "group C",
          "group C",
          "group C",
          "group C",
          "group C",
          "group C",
          "group C",
          "group C",
          "group C",
          "group C",
          "group C",
          "group C",
          "group C",
          "group C",
          "group C",
          "group C",
          "group C",
          "group C",
          "group C",
          "group C",
          "group C",
          "group C",
          "group C",
          "group C",
          "group C",
          "group C",
          "group C",
          "group C",
          "group C",
          "group C",
          "group C",
          "group C",
          "group C",
          "group C",
          "group C",
          "group C",
          "group C",
          "group C",
          "group C",
          "group C",
          "group C",
          "group C",
          "group C",
          "group C",
          "group C",
          "group C",
          "group C",
          "group C",
          "group C",
          "group C",
          "group C",
          "group C",
          "group C",
          "group C",
          "group C",
          "group C",
          "group C",
          "group C",
          "group C",
          "group C",
          "group C",
          "group C",
          "group C",
          "group C",
          "group C",
          "group C",
          "group C",
          "group C",
          "group C",
          "group C",
          "group C",
          "group C",
          "group C",
          "group C",
          "group C",
          "group C",
          "group C",
          "group C",
          "group C",
          "group C",
          "group C",
          "group C",
          "group C",
          "group C",
          "group C",
          "group C",
          "group C",
          "group C",
          "group C",
          "group C",
          "group C",
          "group C",
          "group C",
          "group C",
          "group C",
          "group C",
          "group C",
          "group C",
          "group C",
          "group C",
          "group C",
          "group C",
          "group C",
          "group C",
          "group C",
          "group C",
          "group C",
          "group C",
          "group C",
          "group D",
          "group D",
          "group D",
          "group D",
          "group D",
          "group D",
          "group D",
          "group D",
          "group D",
          "group D",
          "group D",
          "group D",
          "group D",
          "group D",
          "group D",
          "group D",
          "group D",
          "group D",
          "group D",
          "group D",
          "group D",
          "group D",
          "group D",
          "group D",
          "group D",
          "group D",
          "group D",
          "group D",
          "group D",
          "group D",
          "group D",
          "group D",
          "group D",
          "group D",
          "group D",
          "group D",
          "group D",
          "group D",
          "group D",
          "group D",
          "group D",
          "group D",
          "group D",
          "group D",
          "group D",
          "group D",
          "group D",
          "group D",
          "group D",
          "group D",
          "group D",
          "group D",
          "group D",
          "group D",
          "group D",
          "group D",
          "group D",
          "group D",
          "group D",
          "group D",
          "group D",
          "group D",
          "group D",
          "group D",
          "group D",
          "group D",
          "group D",
          "group D",
          "group D",
          "group D",
          "group D",
          "group D",
          "group D",
          "group D",
          "group D",
          "group D",
          "group D",
          "group D",
          "group D",
          "group D",
          "group D",
          "group D",
          "group D",
          "group D",
          "group D",
          "group D",
          "group D",
          "group D",
          "group D",
          "group D",
          "group D",
          "group D",
          "group D",
          "group D",
          "group D",
          "group D",
          "group D",
          "group D",
          "group D",
          "group D",
          "group D",
          "group D",
          "group D",
          "group D",
          "group D",
          "group D",
          "group D",
          "group D",
          "group D",
          "group D",
          "group D",
          "group D",
          "group D",
          "group D",
          "group D",
          "group D",
          "group D",
          "group D",
          "group D",
          "group D",
          "group D",
          "group D",
          "group D",
          "group D",
          "group D",
          "group D",
          "group D",
          "group D",
          "group D",
          "group D",
          "group D",
          "group D",
          "group D",
          "group D",
          "group D",
          "group D",
          "group D",
          "group D",
          "group D",
          "group D",
          "group D",
          "group D",
          "group D",
          "group D",
          "group D",
          "group D",
          "group D",
          "group D",
          "group D",
          "group D",
          "group D",
          "group D",
          "group D",
          "group D",
          "group D",
          "group D",
          "group D",
          "group D",
          "group D",
          "group D",
          "group D",
          "group D",
          "group D",
          "group D",
          "group D",
          "group D",
          "group D",
          "group D",
          "group D",
          "group D",
          "group D",
          "group D",
          "group D",
          "group D",
          "group D",
          "group D",
          "group D",
          "group D",
          "group D",
          "group D",
          "group D",
          "group D",
          "group D",
          "group D",
          "group D",
          "group D",
          "group D",
          "group D",
          "group D",
          "group D",
          "group D",
          "group D",
          "group D",
          "group D",
          "group D",
          "group D",
          "group D",
          "group D",
          "group D",
          "group D",
          "group D",
          "group D",
          "group D",
          "group D",
          "group D",
          "group D",
          "group D",
          "group D",
          "group D",
          "group D",
          "group D",
          "group D",
          "group D",
          "group D",
          "group D",
          "group D",
          "group D",
          "group D",
          "group D",
          "group D",
          "group D",
          "group D",
          "group D",
          "group D",
          "group D",
          "group D",
          "group D",
          "group D",
          "group D",
          "group D",
          "group D",
          "group D",
          "group D",
          "group D",
          "group D",
          "group D",
          "group D",
          "group D",
          "group D",
          "group D",
          "group D",
          "group D",
          "group D",
          "group D",
          "group D",
          "group D",
          "group D",
          "group D",
          "group D",
          "group D",
          "group D",
          "group D",
          "group D",
          "group D",
          "group D",
          "group D",
          "group D",
          "group D",
          "group D",
          "group D",
          "group D",
          "group D",
          "group E",
          "group E",
          "group E",
          "group E",
          "group E",
          "group E",
          "group E",
          "group E",
          "group E",
          "group E",
          "group E",
          "group E",
          "group E",
          "group E",
          "group E",
          "group E",
          "group E",
          "group E",
          "group E",
          "group E",
          "group E",
          "group E",
          "group E",
          "group E",
          "group E",
          "group E",
          "group E",
          "group E",
          "group E",
          "group E",
          "group E",
          "group E",
          "group E",
          "group E",
          "group E",
          "group E",
          "group E",
          "group E",
          "group E",
          "group E",
          "group E",
          "group E",
          "group E",
          "group E",
          "group E",
          "group E",
          "group E",
          "group E",
          "group E",
          "group E",
          "group E",
          "group E",
          "group E",
          "group E",
          "group E",
          "group E",
          "group E",
          "group E",
          "group E",
          "group E",
          "group E",
          "group E",
          "group E",
          "group E",
          "group E",
          "group E",
          "group E",
          "group E",
          "group E",
          "group E",
          "group E",
          "group E",
          "group E",
          "group E",
          "group E",
          "group E",
          "group E",
          "group E",
          "group E",
          "group E",
          "group E",
          "group E",
          "group E",
          "group E",
          "group E",
          "group E",
          "group E",
          "group E",
          "group E",
          "group E",
          "group E",
          "group E",
          "group E",
          "group E",
          "group E",
          "group E",
          "group E",
          "group E",
          "group E",
          "group E",
          "group E",
          "group E",
          "group E",
          "group E",
          "group E",
          "group E",
          "group E",
          "group E",
          "group E",
          "group E",
          "group E",
          "group E",
          "group E",
          "group E",
          "group E",
          "group E",
          "group E",
          "group E",
          "group E",
          "group E",
          "group E",
          "group E",
          "group E",
          "group E",
          "group E",
          "group E",
          "group E",
          "group E",
          "group E",
          "group E",
          "group E",
          "group E",
          "group E",
          "group E",
          "group E",
          "group E",
          "group E",
          "group E",
          "group E",
          "group E"
         ],
         "xbins": {
          "size": 0.1
         }
        }
       ],
       "layout": {
        "showlegend": true,
        "template": {
         "data": {
          "bar": [
           {
            "error_x": {
             "color": "#2a3f5f"
            },
            "error_y": {
             "color": "#2a3f5f"
            },
            "marker": {
             "line": {
              "color": "#E5ECF6",
              "width": 0.5
             }
            },
            "type": "bar"
           }
          ],
          "barpolar": [
           {
            "marker": {
             "line": {
              "color": "#E5ECF6",
              "width": 0.5
             }
            },
            "type": "barpolar"
           }
          ],
          "carpet": [
           {
            "aaxis": {
             "endlinecolor": "#2a3f5f",
             "gridcolor": "white",
             "linecolor": "white",
             "minorgridcolor": "white",
             "startlinecolor": "#2a3f5f"
            },
            "baxis": {
             "endlinecolor": "#2a3f5f",
             "gridcolor": "white",
             "linecolor": "white",
             "minorgridcolor": "white",
             "startlinecolor": "#2a3f5f"
            },
            "type": "carpet"
           }
          ],
          "choropleth": [
           {
            "colorbar": {
             "outlinewidth": 0,
             "ticks": ""
            },
            "type": "choropleth"
           }
          ],
          "contour": [
           {
            "colorbar": {
             "outlinewidth": 0,
             "ticks": ""
            },
            "colorscale": [
             [
              0,
              "#0d0887"
             ],
             [
              0.1111111111111111,
              "#46039f"
             ],
             [
              0.2222222222222222,
              "#7201a8"
             ],
             [
              0.3333333333333333,
              "#9c179e"
             ],
             [
              0.4444444444444444,
              "#bd3786"
             ],
             [
              0.5555555555555556,
              "#d8576b"
             ],
             [
              0.6666666666666666,
              "#ed7953"
             ],
             [
              0.7777777777777778,
              "#fb9f3a"
             ],
             [
              0.8888888888888888,
              "#fdca26"
             ],
             [
              1,
              "#f0f921"
             ]
            ],
            "type": "contour"
           }
          ],
          "contourcarpet": [
           {
            "colorbar": {
             "outlinewidth": 0,
             "ticks": ""
            },
            "type": "contourcarpet"
           }
          ],
          "heatmap": [
           {
            "colorbar": {
             "outlinewidth": 0,
             "ticks": ""
            },
            "colorscale": [
             [
              0,
              "#0d0887"
             ],
             [
              0.1111111111111111,
              "#46039f"
             ],
             [
              0.2222222222222222,
              "#7201a8"
             ],
             [
              0.3333333333333333,
              "#9c179e"
             ],
             [
              0.4444444444444444,
              "#bd3786"
             ],
             [
              0.5555555555555556,
              "#d8576b"
             ],
             [
              0.6666666666666666,
              "#ed7953"
             ],
             [
              0.7777777777777778,
              "#fb9f3a"
             ],
             [
              0.8888888888888888,
              "#fdca26"
             ],
             [
              1,
              "#f0f921"
             ]
            ],
            "type": "heatmap"
           }
          ],
          "heatmapgl": [
           {
            "colorbar": {
             "outlinewidth": 0,
             "ticks": ""
            },
            "colorscale": [
             [
              0,
              "#0d0887"
             ],
             [
              0.1111111111111111,
              "#46039f"
             ],
             [
              0.2222222222222222,
              "#7201a8"
             ],
             [
              0.3333333333333333,
              "#9c179e"
             ],
             [
              0.4444444444444444,
              "#bd3786"
             ],
             [
              0.5555555555555556,
              "#d8576b"
             ],
             [
              0.6666666666666666,
              "#ed7953"
             ],
             [
              0.7777777777777778,
              "#fb9f3a"
             ],
             [
              0.8888888888888888,
              "#fdca26"
             ],
             [
              1,
              "#f0f921"
             ]
            ],
            "type": "heatmapgl"
           }
          ],
          "histogram": [
           {
            "marker": {
             "colorbar": {
              "outlinewidth": 0,
              "ticks": ""
             }
            },
            "type": "histogram"
           }
          ],
          "histogram2d": [
           {
            "colorbar": {
             "outlinewidth": 0,
             "ticks": ""
            },
            "colorscale": [
             [
              0,
              "#0d0887"
             ],
             [
              0.1111111111111111,
              "#46039f"
             ],
             [
              0.2222222222222222,
              "#7201a8"
             ],
             [
              0.3333333333333333,
              "#9c179e"
             ],
             [
              0.4444444444444444,
              "#bd3786"
             ],
             [
              0.5555555555555556,
              "#d8576b"
             ],
             [
              0.6666666666666666,
              "#ed7953"
             ],
             [
              0.7777777777777778,
              "#fb9f3a"
             ],
             [
              0.8888888888888888,
              "#fdca26"
             ],
             [
              1,
              "#f0f921"
             ]
            ],
            "type": "histogram2d"
           }
          ],
          "histogram2dcontour": [
           {
            "colorbar": {
             "outlinewidth": 0,
             "ticks": ""
            },
            "colorscale": [
             [
              0,
              "#0d0887"
             ],
             [
              0.1111111111111111,
              "#46039f"
             ],
             [
              0.2222222222222222,
              "#7201a8"
             ],
             [
              0.3333333333333333,
              "#9c179e"
             ],
             [
              0.4444444444444444,
              "#bd3786"
             ],
             [
              0.5555555555555556,
              "#d8576b"
             ],
             [
              0.6666666666666666,
              "#ed7953"
             ],
             [
              0.7777777777777778,
              "#fb9f3a"
             ],
             [
              0.8888888888888888,
              "#fdca26"
             ],
             [
              1,
              "#f0f921"
             ]
            ],
            "type": "histogram2dcontour"
           }
          ],
          "mesh3d": [
           {
            "colorbar": {
             "outlinewidth": 0,
             "ticks": ""
            },
            "type": "mesh3d"
           }
          ],
          "parcoords": [
           {
            "line": {
             "colorbar": {
              "outlinewidth": 0,
              "ticks": ""
             }
            },
            "type": "parcoords"
           }
          ],
          "pie": [
           {
            "automargin": true,
            "type": "pie"
           }
          ],
          "scatter": [
           {
            "marker": {
             "colorbar": {
              "outlinewidth": 0,
              "ticks": ""
             }
            },
            "type": "scatter"
           }
          ],
          "scatter3d": [
           {
            "line": {
             "colorbar": {
              "outlinewidth": 0,
              "ticks": ""
             }
            },
            "marker": {
             "colorbar": {
              "outlinewidth": 0,
              "ticks": ""
             }
            },
            "type": "scatter3d"
           }
          ],
          "scattercarpet": [
           {
            "marker": {
             "colorbar": {
              "outlinewidth": 0,
              "ticks": ""
             }
            },
            "type": "scattercarpet"
           }
          ],
          "scattergeo": [
           {
            "marker": {
             "colorbar": {
              "outlinewidth": 0,
              "ticks": ""
             }
            },
            "type": "scattergeo"
           }
          ],
          "scattergl": [
           {
            "marker": {
             "colorbar": {
              "outlinewidth": 0,
              "ticks": ""
             }
            },
            "type": "scattergl"
           }
          ],
          "scattermapbox": [
           {
            "marker": {
             "colorbar": {
              "outlinewidth": 0,
              "ticks": ""
             }
            },
            "type": "scattermapbox"
           }
          ],
          "scatterpolar": [
           {
            "marker": {
             "colorbar": {
              "outlinewidth": 0,
              "ticks": ""
             }
            },
            "type": "scatterpolar"
           }
          ],
          "scatterpolargl": [
           {
            "marker": {
             "colorbar": {
              "outlinewidth": 0,
              "ticks": ""
             }
            },
            "type": "scatterpolargl"
           }
          ],
          "scatterternary": [
           {
            "marker": {
             "colorbar": {
              "outlinewidth": 0,
              "ticks": ""
             }
            },
            "type": "scatterternary"
           }
          ],
          "surface": [
           {
            "colorbar": {
             "outlinewidth": 0,
             "ticks": ""
            },
            "colorscale": [
             [
              0,
              "#0d0887"
             ],
             [
              0.1111111111111111,
              "#46039f"
             ],
             [
              0.2222222222222222,
              "#7201a8"
             ],
             [
              0.3333333333333333,
              "#9c179e"
             ],
             [
              0.4444444444444444,
              "#bd3786"
             ],
             [
              0.5555555555555556,
              "#d8576b"
             ],
             [
              0.6666666666666666,
              "#ed7953"
             ],
             [
              0.7777777777777778,
              "#fb9f3a"
             ],
             [
              0.8888888888888888,
              "#fdca26"
             ],
             [
              1,
              "#f0f921"
             ]
            ],
            "type": "surface"
           }
          ],
          "table": [
           {
            "cells": {
             "fill": {
              "color": "#EBF0F8"
             },
             "line": {
              "color": "white"
             }
            },
            "header": {
             "fill": {
              "color": "#C8D4E3"
             },
             "line": {
              "color": "white"
             }
            },
            "type": "table"
           }
          ]
         },
         "layout": {
          "annotationdefaults": {
           "arrowcolor": "#2a3f5f",
           "arrowhead": 0,
           "arrowwidth": 1
          },
          "coloraxis": {
           "colorbar": {
            "outlinewidth": 0,
            "ticks": ""
           }
          },
          "colorscale": {
           "diverging": [
            [
             0,
             "#8e0152"
            ],
            [
             0.1,
             "#c51b7d"
            ],
            [
             0.2,
             "#de77ae"
            ],
            [
             0.3,
             "#f1b6da"
            ],
            [
             0.4,
             "#fde0ef"
            ],
            [
             0.5,
             "#f7f7f7"
            ],
            [
             0.6,
             "#e6f5d0"
            ],
            [
             0.7,
             "#b8e186"
            ],
            [
             0.8,
             "#7fbc41"
            ],
            [
             0.9,
             "#4d9221"
            ],
            [
             1,
             "#276419"
            ]
           ],
           "sequential": [
            [
             0,
             "#0d0887"
            ],
            [
             0.1111111111111111,
             "#46039f"
            ],
            [
             0.2222222222222222,
             "#7201a8"
            ],
            [
             0.3333333333333333,
             "#9c179e"
            ],
            [
             0.4444444444444444,
             "#bd3786"
            ],
            [
             0.5555555555555556,
             "#d8576b"
            ],
            [
             0.6666666666666666,
             "#ed7953"
            ],
            [
             0.7777777777777778,
             "#fb9f3a"
            ],
            [
             0.8888888888888888,
             "#fdca26"
            ],
            [
             1,
             "#f0f921"
            ]
           ],
           "sequentialminus": [
            [
             0,
             "#0d0887"
            ],
            [
             0.1111111111111111,
             "#46039f"
            ],
            [
             0.2222222222222222,
             "#7201a8"
            ],
            [
             0.3333333333333333,
             "#9c179e"
            ],
            [
             0.4444444444444444,
             "#bd3786"
            ],
            [
             0.5555555555555556,
             "#d8576b"
            ],
            [
             0.6666666666666666,
             "#ed7953"
            ],
            [
             0.7777777777777778,
             "#fb9f3a"
            ],
            [
             0.8888888888888888,
             "#fdca26"
            ],
            [
             1,
             "#f0f921"
            ]
           ]
          },
          "colorway": [
           "#636efa",
           "#EF553B",
           "#00cc96",
           "#ab63fa",
           "#FFA15A",
           "#19d3f3",
           "#FF6692",
           "#B6E880",
           "#FF97FF",
           "#FECB52"
          ],
          "font": {
           "color": "#2a3f5f"
          },
          "geo": {
           "bgcolor": "white",
           "lakecolor": "white",
           "landcolor": "#E5ECF6",
           "showlakes": true,
           "showland": true,
           "subunitcolor": "white"
          },
          "hoverlabel": {
           "align": "left"
          },
          "hovermode": "closest",
          "mapbox": {
           "style": "light"
          },
          "paper_bgcolor": "white",
          "plot_bgcolor": "#E5ECF6",
          "polar": {
           "angularaxis": {
            "gridcolor": "white",
            "linecolor": "white",
            "ticks": ""
           },
           "bgcolor": "#E5ECF6",
           "radialaxis": {
            "gridcolor": "white",
            "linecolor": "white",
            "ticks": ""
           }
          },
          "scene": {
           "xaxis": {
            "backgroundcolor": "#E5ECF6",
            "gridcolor": "white",
            "gridwidth": 2,
            "linecolor": "white",
            "showbackground": true,
            "ticks": "",
            "zerolinecolor": "white"
           },
           "yaxis": {
            "backgroundcolor": "#E5ECF6",
            "gridcolor": "white",
            "gridwidth": 2,
            "linecolor": "white",
            "showbackground": true,
            "ticks": "",
            "zerolinecolor": "white"
           },
           "zaxis": {
            "backgroundcolor": "#E5ECF6",
            "gridcolor": "white",
            "gridwidth": 2,
            "linecolor": "white",
            "showbackground": true,
            "ticks": "",
            "zerolinecolor": "white"
           }
          },
          "shapedefaults": {
           "line": {
            "color": "#2a3f5f"
           }
          },
          "ternary": {
           "aaxis": {
            "gridcolor": "white",
            "linecolor": "white",
            "ticks": ""
           },
           "baxis": {
            "gridcolor": "white",
            "linecolor": "white",
            "ticks": ""
           },
           "bgcolor": "#E5ECF6",
           "caxis": {
            "gridcolor": "white",
            "linecolor": "white",
            "ticks": ""
           }
          },
          "title": {
           "x": 0.05
          },
          "xaxis": {
           "automargin": true,
           "gridcolor": "white",
           "linecolor": "white",
           "ticks": "",
           "title": {
            "standoff": 15
           },
           "zerolinecolor": "white",
           "zerolinewidth": 2
          },
          "yaxis": {
           "automargin": true,
           "gridcolor": "white",
           "linecolor": "white",
           "ticks": "",
           "title": {
            "standoff": 15
           },
           "zerolinecolor": "white",
           "zerolinewidth": 2
          }
         }
        },
        "title": {
         "text": "Student race distribution histogram"
        },
        "xaxis": {
         "title": {
          "text": "Ethnicity"
         }
        },
        "yaxis": {
         "title": {
          "text": "Count"
         }
        }
       }
      }
     },
     "metadata": {},
     "output_type": "display_data"
    },
    {
     "name": "stdout",
     "output_type": "stream",
     "text": "There are  5  different ethnical groups:  ['group A' 'group B' 'group C' 'group D' 'group E']\n"
    }
   ],
   "source": [
    "#Race preview\n",
    "df= df.sort_values(by ='race/ethnicity' )\n",
    "fig = go.Figure()\n",
    "fig.add_trace(go.Histogram(\n",
    "    x=df[\"race/ethnicity\"],\n",
    "    name='Students', # name used in legend and hover labels\n",
    "    xbins=dict( # bins used for histogram\n",
    "        size=0.1\n",
    "        \n",
    "    ),\n",
    "    marker_color='#EB89B6',\n",
    "    opacity=0.75\n",
    "))\n",
    "\n",
    "\n",
    "fig.update_layout(\n",
    "    title_text='Student race distribution histogram', # title of plot\n",
    "    xaxis_title_text='Ethnicity', # xaxis label\n",
    "    yaxis_title_text='Count', # yaxis label\n",
    "    showlegend=True\n",
    "   \n",
    "    \n",
    ")\n",
    "\n",
    "fig.show()\n",
    "A= df['race/ethnicity'].nunique()\n",
    "B=df['race/ethnicity'].unique()\n",
    "print(\"There are \", A, \" different ethnical groups: \", B)"
   ]
  },
  {
   "cell_type": "code",
   "execution_count": 31,
   "metadata": {},
   "outputs": [
    {
     "name": "stdout",
     "output_type": "stream",
     "text": "There are  6  different levels of education:  ['some college' 'some high school' \"associate's degree\" 'high school'\n \"bachelor's degree\" \"master's degree\"]\nThe correct descending order is: masters, bachelors, associate, some college, high school and some high school. For simplicity I will change values of levels of education from 1 to 6, 1 standing for some high school and 6 for masters\n"
    },
    {
     "data": {
      "application/vnd.plotly.v1+json": {
       "config": {
        "plotlyServerURL": "https://plot.ly"
       },
       "data": [
        {
         "marker": {
          "color": "#EB89B6"
         },
         "name": "Students",
         "opacity": 0.75,
         "type": "histogram",
         "x": [
          "3",
          "1",
          "1",
          "4",
          "3",
          "4",
          "1",
          "2",
          "4",
          "3",
          "3",
          "1",
          "3",
          "5",
          "5",
          "4",
          "3",
          "2",
          "1",
          "3",
          "3",
          "1",
          "4",
          "4",
          "3",
          "4",
          "4",
          "5",
          "4",
          "3",
          "3",
          "2",
          "5",
          "3",
          "2",
          "2",
          "1",
          "2",
          "5",
          "1",
          "3",
          "2",
          "5",
          "1",
          "4",
          "1",
          "2",
          "2",
          "1",
          "5",
          "2",
          "2",
          "5",
          "6",
          "3",
          "1",
          "2",
          "4",
          "4",
          "2",
          "1",
          "6",
          "2",
          "4",
          "3",
          "3",
          "1",
          "2",
          "5",
          "2",
          "1",
          "5",
          "1",
          "3",
          "2",
          "5",
          "2",
          "4",
          "1",
          "1",
          "3",
          "1",
          "5",
          "1",
          "1",
          "6",
          "1",
          "1",
          "1",
          "1",
          "1",
          "4",
          "2",
          "1",
          "2",
          "2",
          "5",
          "5",
          "2",
          "3",
          "2",
          "5",
          "3",
          "4",
          "3",
          "2",
          "4",
          "3",
          "1",
          "2",
          "3",
          "2",
          "5",
          "4",
          "4",
          "2",
          "2",
          "5",
          "5",
          "4",
          "2",
          "2",
          "3",
          "3",
          "4",
          "1",
          "4",
          "1",
          "5",
          "4",
          "4",
          "3",
          "4",
          "4",
          "5",
          "1",
          "5",
          "2",
          "5",
          "4",
          "4",
          "2",
          "1",
          "3",
          "4",
          "3",
          "2",
          "3",
          "2",
          "3",
          "4",
          "5",
          "4",
          "4",
          "5",
          "1",
          "4",
          "5",
          "4",
          "3",
          "2",
          "2",
          "5",
          "3",
          "3",
          "1",
          "3",
          "2",
          "2",
          "1",
          "1",
          "2",
          "5",
          "2",
          "1",
          "5",
          "2",
          "3",
          "2",
          "1",
          "3",
          "2",
          "6",
          "2",
          "4",
          "2",
          "2",
          "4",
          "3",
          "3",
          "2",
          "2",
          "1",
          "3",
          "4",
          "1",
          "1",
          "4",
          "3",
          "3",
          "6",
          "1",
          "5",
          "1",
          "2",
          "4",
          "1",
          "2",
          "2",
          "2",
          "1",
          "4",
          "2",
          "2",
          "1",
          "1",
          "2",
          "1",
          "1",
          "3",
          "6",
          "4",
          "2",
          "1",
          "2",
          "3",
          "6",
          "4",
          "4",
          "2",
          "3",
          "4",
          "4",
          "1",
          "1",
          "2",
          "1",
          "3",
          "6",
          "5",
          "4",
          "4",
          "2",
          "5",
          "2",
          "1",
          "2",
          "1",
          "4",
          "1",
          "2",
          "1",
          "1",
          "1",
          "3",
          "1",
          "2",
          "4",
          "4",
          "4",
          "4",
          "3",
          "3",
          "3",
          "4",
          "3",
          "3",
          "3",
          "6",
          "5",
          "3",
          "3",
          "2",
          "4",
          "1",
          "3",
          "4",
          "2",
          "1",
          "3",
          "3",
          "3",
          "2",
          "2",
          "4",
          "4",
          "3",
          "2",
          "5",
          "3",
          "5",
          "2",
          "1",
          "6",
          "1",
          "2",
          "1",
          "4",
          "4",
          "1",
          "2",
          "6",
          "1",
          "4",
          "1",
          "1",
          "2",
          "1",
          "5",
          "2",
          "3",
          "4",
          "4",
          "3",
          "2",
          "2",
          "5",
          "3",
          "4",
          "4",
          "3",
          "4",
          "4",
          "3",
          "4",
          "2",
          "2",
          "5",
          "1",
          "3",
          "3",
          "5",
          "5",
          "4",
          "2",
          "3",
          "1",
          "6",
          "3",
          "1",
          "3",
          "5",
          "3",
          "2",
          "3",
          "4",
          "2",
          "4",
          "3",
          "3",
          "3",
          "3",
          "3",
          "3",
          "4",
          "3",
          "4",
          "1",
          "4",
          "5",
          "5",
          "4",
          "2",
          "4",
          "3",
          "2",
          "3",
          "5",
          "6",
          "4",
          "3",
          "2",
          "4",
          "3",
          "3",
          "2",
          "2",
          "4",
          "3",
          "2",
          "5",
          "2",
          "4",
          "3",
          "2",
          "4",
          "4",
          "5",
          "3",
          "1",
          "6",
          "4",
          "1",
          "4",
          "2",
          "2",
          "4",
          "4",
          "3",
          "2",
          "2",
          "3",
          "4",
          "1",
          "4",
          "2",
          "2",
          "4",
          "3",
          "5",
          "5",
          "4",
          "5",
          "4",
          "2",
          "1",
          "6",
          "1",
          "1",
          "2",
          "2",
          "3",
          "2",
          "1",
          "6",
          "1",
          "2",
          "4",
          "2",
          "3",
          "5",
          "3",
          "2",
          "4",
          "6",
          "3",
          "3",
          "1",
          "1",
          "4",
          "2",
          "4",
          "4",
          "4",
          "2",
          "5",
          "4",
          "1",
          "4",
          "6",
          "1",
          "2",
          "3",
          "4",
          "5",
          "4",
          "1",
          "6",
          "2",
          "4",
          "2",
          "1",
          "5",
          "6",
          "6",
          "1",
          "2",
          "5",
          "2",
          "2",
          "2",
          "4",
          "2",
          "3",
          "5",
          "3",
          "4",
          "4",
          "2",
          "4",
          "4",
          "5",
          "3",
          "2",
          "3",
          "2",
          "2",
          "5",
          "4",
          "5",
          "4",
          "5",
          "2",
          "3",
          "6",
          "3",
          "4",
          "1",
          "5",
          "3",
          "4",
          "5",
          "2",
          "4",
          "3",
          "3",
          "3",
          "2",
          "1",
          "4",
          "4",
          "5",
          "4",
          "4",
          "1",
          "6",
          "5",
          "1",
          "1",
          "4",
          "1",
          "5",
          "4",
          "4",
          "3",
          "3",
          "4",
          "5",
          "2",
          "4",
          "1",
          "3",
          "1",
          "6",
          "5",
          "5",
          "1",
          "4",
          "3",
          "1",
          "4",
          "4",
          "1",
          "3",
          "3",
          "2",
          "4",
          "6",
          "4",
          "3",
          "2",
          "4",
          "6",
          "1",
          "5",
          "1",
          "3",
          "1",
          "2",
          "1",
          "4",
          "5",
          "5",
          "5",
          "2",
          "5",
          "4",
          "4",
          "4",
          "1",
          "1",
          "6",
          "3",
          "2",
          "2",
          "3",
          "1",
          "4",
          "3",
          "5",
          "1",
          "3",
          "2",
          "6",
          "3",
          "4",
          "3",
          "3",
          "3",
          "3",
          "1",
          "4",
          "2",
          "2",
          "2",
          "3",
          "1",
          "1",
          "4",
          "4",
          "4",
          "1",
          "4",
          "6",
          "3",
          "3",
          "2",
          "1",
          "2",
          "3",
          "2",
          "1",
          "4",
          "5",
          "3",
          "3",
          "1",
          "5",
          "3",
          "4",
          "3",
          "4",
          "2",
          "3",
          "2",
          "5",
          "6",
          "2",
          "3",
          "1",
          "2",
          "5",
          "2",
          "2",
          "5",
          "1",
          "3",
          "3",
          "1",
          "4",
          "3",
          "3",
          "3",
          "2",
          "5",
          "1",
          "3",
          "4",
          "2",
          "1",
          "1",
          "3",
          "2",
          "2",
          "3",
          "4",
          "3",
          "3",
          "5",
          "1",
          "5",
          "6",
          "3",
          "6",
          "2",
          "3",
          "1",
          "3",
          "1",
          "4",
          "4",
          "5",
          "3",
          "2",
          "1",
          "1",
          "2",
          "5",
          "3",
          "4",
          "3",
          "6",
          "2",
          "5",
          "1",
          "2",
          "6",
          "1",
          "5",
          "3",
          "3",
          "1",
          "6",
          "1",
          "1",
          "3",
          "3",
          "6",
          "2",
          "3",
          "3",
          "4",
          "1",
          "2",
          "4",
          "1",
          "4",
          "5",
          "3",
          "2",
          "3",
          "1",
          "4",
          "4",
          "3",
          "2",
          "5",
          "3",
          "5",
          "4",
          "6",
          "4",
          "6",
          "4",
          "2",
          "4",
          "1",
          "1",
          "5",
          "2",
          "6",
          "3",
          "1",
          "3",
          "2",
          "2",
          "1",
          "5",
          "1",
          "4",
          "4",
          "3",
          "2",
          "1",
          "1",
          "3",
          "2",
          "3",
          "4",
          "1",
          "4",
          "2",
          "2",
          "2",
          "4",
          "6",
          "5",
          "2",
          "3",
          "1",
          "1",
          "4",
          "2",
          "3",
          "1",
          "5",
          "3",
          "5",
          "2",
          "2",
          "3",
          "5",
          "4",
          "1",
          "4",
          "1",
          "4",
          "6",
          "5",
          "3",
          "3",
          "6",
          "5",
          "3",
          "3",
          "6",
          "2",
          "6",
          "4",
          "1",
          "4",
          "1",
          "1",
          "4",
          "4",
          "4",
          "5",
          "1",
          "6",
          "2",
          "3",
          "3",
          "1",
          "2",
          "4",
          "4",
          "4",
          "3",
          "2",
          "4",
          "4",
          "4",
          "1",
          "2",
          "3",
          "3",
          "3",
          "4",
          "5",
          "4",
          "2",
          "4",
          "6",
          "1",
          "2",
          "5",
          "3",
          "1",
          "2",
          "1",
          "3",
          "3",
          "3",
          "6",
          "6",
          "2",
          "5",
          "3",
          "6",
          "3",
          "3",
          "1",
          "3",
          "1",
          "5",
          "3",
          "1",
          "1",
          "1",
          "4",
          "3",
          "3",
          "6",
          "3",
          "6",
          "4",
          "4",
          "4",
          "3",
          "4",
          "4",
          "4",
          "5",
          "2",
          "2",
          "5",
          "3",
          "6",
          "4",
          "2",
          "6",
          "1",
          "3",
          "4",
          "4",
          "1",
          "4",
          "2",
          "3",
          "3",
          "3",
          "4",
          "2",
          "5",
          "4",
          "5",
          "3",
          "3",
          "4",
          "4",
          "4",
          "1",
          "6",
          "4",
          "1",
          "4",
          "2",
          "1",
          "2",
          "2",
          "3",
          "6",
          "2",
          "3",
          "2",
          "1",
          "5",
          "4",
          "4",
          "3",
          "3",
          "4",
          "5",
          "3",
          "4",
          "4",
          "5",
          "3",
          "4",
          "5",
          "3",
          "1",
          "2",
          "1",
          "4",
          "4",
          "2",
          "5",
          "2",
          "6",
          "3",
          "3",
          "4",
          "2",
          "2",
          "5",
          "3",
          "5",
          "3",
          "1",
          "3",
          "3",
          "4",
          "2",
          "5",
          "3",
          "4",
          "1",
          "1",
          "5",
          "4",
          "3",
          "3",
          "6",
          "3",
          "4",
          "2",
          "3",
          "4",
          "4",
          "3",
          "5",
          "2",
          "5",
          "4",
          "1",
          "3",
          "4",
          "6",
          "4",
          "1",
          "4",
          "2",
          "4",
          "4",
          "1",
          "3",
          "4",
          "2",
          "3",
          "1",
          "1",
          "5",
          "3",
          "1",
          "4",
          "3",
          "3",
          "3",
          "4",
          "2",
          "4",
          "2",
          "3",
          "6",
          "4",
          "5",
          "1",
          "5",
          "3"
         ],
         "xbins": {
          "size": 0.5
         }
        }
       ],
       "layout": {
        "showlegend": true,
        "template": {
         "data": {
          "bar": [
           {
            "error_x": {
             "color": "#2a3f5f"
            },
            "error_y": {
             "color": "#2a3f5f"
            },
            "marker": {
             "line": {
              "color": "#E5ECF6",
              "width": 0.5
             }
            },
            "type": "bar"
           }
          ],
          "barpolar": [
           {
            "marker": {
             "line": {
              "color": "#E5ECF6",
              "width": 0.5
             }
            },
            "type": "barpolar"
           }
          ],
          "carpet": [
           {
            "aaxis": {
             "endlinecolor": "#2a3f5f",
             "gridcolor": "white",
             "linecolor": "white",
             "minorgridcolor": "white",
             "startlinecolor": "#2a3f5f"
            },
            "baxis": {
             "endlinecolor": "#2a3f5f",
             "gridcolor": "white",
             "linecolor": "white",
             "minorgridcolor": "white",
             "startlinecolor": "#2a3f5f"
            },
            "type": "carpet"
           }
          ],
          "choropleth": [
           {
            "colorbar": {
             "outlinewidth": 0,
             "ticks": ""
            },
            "type": "choropleth"
           }
          ],
          "contour": [
           {
            "colorbar": {
             "outlinewidth": 0,
             "ticks": ""
            },
            "colorscale": [
             [
              0,
              "#0d0887"
             ],
             [
              0.1111111111111111,
              "#46039f"
             ],
             [
              0.2222222222222222,
              "#7201a8"
             ],
             [
              0.3333333333333333,
              "#9c179e"
             ],
             [
              0.4444444444444444,
              "#bd3786"
             ],
             [
              0.5555555555555556,
              "#d8576b"
             ],
             [
              0.6666666666666666,
              "#ed7953"
             ],
             [
              0.7777777777777778,
              "#fb9f3a"
             ],
             [
              0.8888888888888888,
              "#fdca26"
             ],
             [
              1,
              "#f0f921"
             ]
            ],
            "type": "contour"
           }
          ],
          "contourcarpet": [
           {
            "colorbar": {
             "outlinewidth": 0,
             "ticks": ""
            },
            "type": "contourcarpet"
           }
          ],
          "heatmap": [
           {
            "colorbar": {
             "outlinewidth": 0,
             "ticks": ""
            },
            "colorscale": [
             [
              0,
              "#0d0887"
             ],
             [
              0.1111111111111111,
              "#46039f"
             ],
             [
              0.2222222222222222,
              "#7201a8"
             ],
             [
              0.3333333333333333,
              "#9c179e"
             ],
             [
              0.4444444444444444,
              "#bd3786"
             ],
             [
              0.5555555555555556,
              "#d8576b"
             ],
             [
              0.6666666666666666,
              "#ed7953"
             ],
             [
              0.7777777777777778,
              "#fb9f3a"
             ],
             [
              0.8888888888888888,
              "#fdca26"
             ],
             [
              1,
              "#f0f921"
             ]
            ],
            "type": "heatmap"
           }
          ],
          "heatmapgl": [
           {
            "colorbar": {
             "outlinewidth": 0,
             "ticks": ""
            },
            "colorscale": [
             [
              0,
              "#0d0887"
             ],
             [
              0.1111111111111111,
              "#46039f"
             ],
             [
              0.2222222222222222,
              "#7201a8"
             ],
             [
              0.3333333333333333,
              "#9c179e"
             ],
             [
              0.4444444444444444,
              "#bd3786"
             ],
             [
              0.5555555555555556,
              "#d8576b"
             ],
             [
              0.6666666666666666,
              "#ed7953"
             ],
             [
              0.7777777777777778,
              "#fb9f3a"
             ],
             [
              0.8888888888888888,
              "#fdca26"
             ],
             [
              1,
              "#f0f921"
             ]
            ],
            "type": "heatmapgl"
           }
          ],
          "histogram": [
           {
            "marker": {
             "colorbar": {
              "outlinewidth": 0,
              "ticks": ""
             }
            },
            "type": "histogram"
           }
          ],
          "histogram2d": [
           {
            "colorbar": {
             "outlinewidth": 0,
             "ticks": ""
            },
            "colorscale": [
             [
              0,
              "#0d0887"
             ],
             [
              0.1111111111111111,
              "#46039f"
             ],
             [
              0.2222222222222222,
              "#7201a8"
             ],
             [
              0.3333333333333333,
              "#9c179e"
             ],
             [
              0.4444444444444444,
              "#bd3786"
             ],
             [
              0.5555555555555556,
              "#d8576b"
             ],
             [
              0.6666666666666666,
              "#ed7953"
             ],
             [
              0.7777777777777778,
              "#fb9f3a"
             ],
             [
              0.8888888888888888,
              "#fdca26"
             ],
             [
              1,
              "#f0f921"
             ]
            ],
            "type": "histogram2d"
           }
          ],
          "histogram2dcontour": [
           {
            "colorbar": {
             "outlinewidth": 0,
             "ticks": ""
            },
            "colorscale": [
             [
              0,
              "#0d0887"
             ],
             [
              0.1111111111111111,
              "#46039f"
             ],
             [
              0.2222222222222222,
              "#7201a8"
             ],
             [
              0.3333333333333333,
              "#9c179e"
             ],
             [
              0.4444444444444444,
              "#bd3786"
             ],
             [
              0.5555555555555556,
              "#d8576b"
             ],
             [
              0.6666666666666666,
              "#ed7953"
             ],
             [
              0.7777777777777778,
              "#fb9f3a"
             ],
             [
              0.8888888888888888,
              "#fdca26"
             ],
             [
              1,
              "#f0f921"
             ]
            ],
            "type": "histogram2dcontour"
           }
          ],
          "mesh3d": [
           {
            "colorbar": {
             "outlinewidth": 0,
             "ticks": ""
            },
            "type": "mesh3d"
           }
          ],
          "parcoords": [
           {
            "line": {
             "colorbar": {
              "outlinewidth": 0,
              "ticks": ""
             }
            },
            "type": "parcoords"
           }
          ],
          "pie": [
           {
            "automargin": true,
            "type": "pie"
           }
          ],
          "scatter": [
           {
            "marker": {
             "colorbar": {
              "outlinewidth": 0,
              "ticks": ""
             }
            },
            "type": "scatter"
           }
          ],
          "scatter3d": [
           {
            "line": {
             "colorbar": {
              "outlinewidth": 0,
              "ticks": ""
             }
            },
            "marker": {
             "colorbar": {
              "outlinewidth": 0,
              "ticks": ""
             }
            },
            "type": "scatter3d"
           }
          ],
          "scattercarpet": [
           {
            "marker": {
             "colorbar": {
              "outlinewidth": 0,
              "ticks": ""
             }
            },
            "type": "scattercarpet"
           }
          ],
          "scattergeo": [
           {
            "marker": {
             "colorbar": {
              "outlinewidth": 0,
              "ticks": ""
             }
            },
            "type": "scattergeo"
           }
          ],
          "scattergl": [
           {
            "marker": {
             "colorbar": {
              "outlinewidth": 0,
              "ticks": ""
             }
            },
            "type": "scattergl"
           }
          ],
          "scattermapbox": [
           {
            "marker": {
             "colorbar": {
              "outlinewidth": 0,
              "ticks": ""
             }
            },
            "type": "scattermapbox"
           }
          ],
          "scatterpolar": [
           {
            "marker": {
             "colorbar": {
              "outlinewidth": 0,
              "ticks": ""
             }
            },
            "type": "scatterpolar"
           }
          ],
          "scatterpolargl": [
           {
            "marker": {
             "colorbar": {
              "outlinewidth": 0,
              "ticks": ""
             }
            },
            "type": "scatterpolargl"
           }
          ],
          "scatterternary": [
           {
            "marker": {
             "colorbar": {
              "outlinewidth": 0,
              "ticks": ""
             }
            },
            "type": "scatterternary"
           }
          ],
          "surface": [
           {
            "colorbar": {
             "outlinewidth": 0,
             "ticks": ""
            },
            "colorscale": [
             [
              0,
              "#0d0887"
             ],
             [
              0.1111111111111111,
              "#46039f"
             ],
             [
              0.2222222222222222,
              "#7201a8"
             ],
             [
              0.3333333333333333,
              "#9c179e"
             ],
             [
              0.4444444444444444,
              "#bd3786"
             ],
             [
              0.5555555555555556,
              "#d8576b"
             ],
             [
              0.6666666666666666,
              "#ed7953"
             ],
             [
              0.7777777777777778,
              "#fb9f3a"
             ],
             [
              0.8888888888888888,
              "#fdca26"
             ],
             [
              1,
              "#f0f921"
             ]
            ],
            "type": "surface"
           }
          ],
          "table": [
           {
            "cells": {
             "fill": {
              "color": "#EBF0F8"
             },
             "line": {
              "color": "white"
             }
            },
            "header": {
             "fill": {
              "color": "#C8D4E3"
             },
             "line": {
              "color": "white"
             }
            },
            "type": "table"
           }
          ]
         },
         "layout": {
          "annotationdefaults": {
           "arrowcolor": "#2a3f5f",
           "arrowhead": 0,
           "arrowwidth": 1
          },
          "coloraxis": {
           "colorbar": {
            "outlinewidth": 0,
            "ticks": ""
           }
          },
          "colorscale": {
           "diverging": [
            [
             0,
             "#8e0152"
            ],
            [
             0.1,
             "#c51b7d"
            ],
            [
             0.2,
             "#de77ae"
            ],
            [
             0.3,
             "#f1b6da"
            ],
            [
             0.4,
             "#fde0ef"
            ],
            [
             0.5,
             "#f7f7f7"
            ],
            [
             0.6,
             "#e6f5d0"
            ],
            [
             0.7,
             "#b8e186"
            ],
            [
             0.8,
             "#7fbc41"
            ],
            [
             0.9,
             "#4d9221"
            ],
            [
             1,
             "#276419"
            ]
           ],
           "sequential": [
            [
             0,
             "#0d0887"
            ],
            [
             0.1111111111111111,
             "#46039f"
            ],
            [
             0.2222222222222222,
             "#7201a8"
            ],
            [
             0.3333333333333333,
             "#9c179e"
            ],
            [
             0.4444444444444444,
             "#bd3786"
            ],
            [
             0.5555555555555556,
             "#d8576b"
            ],
            [
             0.6666666666666666,
             "#ed7953"
            ],
            [
             0.7777777777777778,
             "#fb9f3a"
            ],
            [
             0.8888888888888888,
             "#fdca26"
            ],
            [
             1,
             "#f0f921"
            ]
           ],
           "sequentialminus": [
            [
             0,
             "#0d0887"
            ],
            [
             0.1111111111111111,
             "#46039f"
            ],
            [
             0.2222222222222222,
             "#7201a8"
            ],
            [
             0.3333333333333333,
             "#9c179e"
            ],
            [
             0.4444444444444444,
             "#bd3786"
            ],
            [
             0.5555555555555556,
             "#d8576b"
            ],
            [
             0.6666666666666666,
             "#ed7953"
            ],
            [
             0.7777777777777778,
             "#fb9f3a"
            ],
            [
             0.8888888888888888,
             "#fdca26"
            ],
            [
             1,
             "#f0f921"
            ]
           ]
          },
          "colorway": [
           "#636efa",
           "#EF553B",
           "#00cc96",
           "#ab63fa",
           "#FFA15A",
           "#19d3f3",
           "#FF6692",
           "#B6E880",
           "#FF97FF",
           "#FECB52"
          ],
          "font": {
           "color": "#2a3f5f"
          },
          "geo": {
           "bgcolor": "white",
           "lakecolor": "white",
           "landcolor": "#E5ECF6",
           "showlakes": true,
           "showland": true,
           "subunitcolor": "white"
          },
          "hoverlabel": {
           "align": "left"
          },
          "hovermode": "closest",
          "mapbox": {
           "style": "light"
          },
          "paper_bgcolor": "white",
          "plot_bgcolor": "#E5ECF6",
          "polar": {
           "angularaxis": {
            "gridcolor": "white",
            "linecolor": "white",
            "ticks": ""
           },
           "bgcolor": "#E5ECF6",
           "radialaxis": {
            "gridcolor": "white",
            "linecolor": "white",
            "ticks": ""
           }
          },
          "scene": {
           "xaxis": {
            "backgroundcolor": "#E5ECF6",
            "gridcolor": "white",
            "gridwidth": 2,
            "linecolor": "white",
            "showbackground": true,
            "ticks": "",
            "zerolinecolor": "white"
           },
           "yaxis": {
            "backgroundcolor": "#E5ECF6",
            "gridcolor": "white",
            "gridwidth": 2,
            "linecolor": "white",
            "showbackground": true,
            "ticks": "",
            "zerolinecolor": "white"
           },
           "zaxis": {
            "backgroundcolor": "#E5ECF6",
            "gridcolor": "white",
            "gridwidth": 2,
            "linecolor": "white",
            "showbackground": true,
            "ticks": "",
            "zerolinecolor": "white"
           }
          },
          "shapedefaults": {
           "line": {
            "color": "#2a3f5f"
           }
          },
          "ternary": {
           "aaxis": {
            "gridcolor": "white",
            "linecolor": "white",
            "ticks": ""
           },
           "baxis": {
            "gridcolor": "white",
            "linecolor": "white",
            "ticks": ""
           },
           "bgcolor": "#E5ECF6",
           "caxis": {
            "gridcolor": "white",
            "linecolor": "white",
            "ticks": ""
           }
          },
          "title": {
           "x": 0.05
          },
          "xaxis": {
           "automargin": true,
           "gridcolor": "white",
           "linecolor": "white",
           "ticks": "",
           "title": {
            "standoff": 15
           },
           "zerolinecolor": "white",
           "zerolinewidth": 2
          },
          "yaxis": {
           "automargin": true,
           "gridcolor": "white",
           "linecolor": "white",
           "ticks": "",
           "title": {
            "standoff": 15
           },
           "zerolinecolor": "white",
           "zerolinewidth": 2
          }
         }
        },
        "title": {
         "text": "Parental level of education distribution histogram"
        },
        "xaxis": {
         "title": {
          "text": "Level of education"
         }
        },
        "yaxis": {
         "title": {
          "text": "Count"
         }
        }
       }
      }
     },
     "metadata": {},
     "output_type": "display_data"
    }
   ],
   "source": [
    "#Parental level of education preview\n",
    "A= df['parental level of education'].nunique()\n",
    "B=df['parental level of education'].unique()\n",
    "\n",
    "print(\"There are \", A, \" different levels of education: \", B)\n",
    "print(\"The correct descending order is: masters, bachelors, associate, some college, high school and some high school. For simplicity I will change values of levels of education from 1 to 6, 1 standing for some high school and 6 for masters\")\n",
    "\n",
    "\n",
    "df['parental level of education'].replace(['some high school'], value ='1', inplace=True)\n",
    "df['parental level of education'].replace(['high school'], value ='2', inplace=True)\n",
    "df['parental level of education'].replace(['some college'], value ='3', inplace=True)\n",
    "df['parental level of education'].replace([\"associate's degree\"], value ='4', inplace=True)\n",
    "df['parental level of education'].replace([\"bachelor's degree\"], value ='5', inplace=True)\n",
    "df['parental level of education'].replace([\"master's degree\"], value ='6', inplace=True)\n",
    "\n",
    "\n",
    "\n",
    "\n",
    "fig = go.Figure()\n",
    "fig.add_trace(go.Histogram(\n",
    "    x=df[\"parental level of education\"],\n",
    "    name='Students', # name used in legend and hover labels\n",
    "    xbins=dict( # bins used for histogram\n",
    "        size=0.5\n",
    "\n",
    "\n",
    "        \n",
    "    ),\n",
    "    marker_color='#EB89B6',\n",
    "    opacity=0.75\n",
    "))\n",
    "\n",
    "\n",
    "fig.update_layout(\n",
    "    title_text='Parental level of education distribution histogram', # title of plot\n",
    "    xaxis_title_text='Level of education', # xaxis label\n",
    "    yaxis_title_text='Count', # yaxis label\n",
    "    showlegend=True\n",
    "   \n",
    "    \n",
    ")\n",
    "\n",
    "fig.show()"
   ]
  },
  {
   "cell_type": "code",
   "metadata": {},
   "outputs": [],
   "source": []
  }
 ]
}